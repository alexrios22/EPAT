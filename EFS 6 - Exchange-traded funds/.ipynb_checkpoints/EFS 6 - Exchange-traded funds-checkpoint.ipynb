{
  "nbformat": 4,
  "nbformat_minor": 0,
  "metadata": {
    "colab": {
      "name": "EPAT Assignment 11 - [EFS 6] Exchange-traded funds.ipynb",
      "provenance": [],
      "collapsed_sections": [],
      "toc_visible": true
    },
    "kernelspec": {
      "name": "python3",
      "display_name": "Python 3"
    }
  },
  "cells": [
    {
      "cell_type": "markdown",
      "metadata": {
        "id": "VwAEe_Qoxsrt",
        "colab_type": "text"
      },
      "source": [
        "<body><table>\n",
        "<td align = \"left\" width = \"500\">\n",
        "EPAT Batch 45 | <b>EFS 6 - Assignment 06/04/2020</b></td>\n",
        "<td align = \"right\" width = \"500\">\n",
        "<i><u>Written by</u>: Gaston Solari Loudet</i></td></table>\n",
        "<hr>\n",
        "\n",
        "# <center><h3><b><u>Exchange-Traded Funds</u></b></h3></center>\n",
        "\n",
        "<br>(<u>Google Colab link</u>: https://colab.research.google.com/drive/1KCnnvAtzfn3DS3tM6-VZlkLyriAiM5Wm)\n",
        "</body>"
      ]
    },
    {
      "cell_type": "code",
      "metadata": {
        "id": "1gylZCz0w_lm",
        "colab_type": "code",
        "colab": {}
      },
      "source": [
        "%%capture\n",
        "!pip install yfinance\n",
        "import numpy, pandas, matplotlib, statsmodels.api, yfinance\n",
        "# Default plot properties: dark colors.\n",
        "matplotlib.pyplot.style.use(\"dark_background\")\n",
        "sw = 80/3 # Width (in inches) for a fullscreen figure.\n",
        "matplotlib.pyplot.jet() # Set colorbar for the future.\n",
        "colors = matplotlib.cm.ScalarMappable()\n",
        "\n",
        "# GitHub repository for assignment files.\n",
        "repo = \"https://raw.githubusercontent.com/gsolaril/\" \\\n",
        "+ \"Trading_EPAT_Python/master/EFS 6 - Exchange-traded funds\"\n",
        "\n",
        "def read_csv(url):\n",
        "    Data = pandas.read_csv(url.replace(\" \", \"%20\"))\n",
        "    if \"Date\" in Data.columns:\n",
        "        to_dt = {\"arg\": Data[\"Date\"], \"format\": \"%d-%b-%y\"}\n",
        "        Data[\"Date\"] = pandas.to_datetime(**to_dt)\n",
        "        Data.set_index(keys = \"Date\", inplace = True)\n",
        "    return Data"
      ],
      "execution_count": 0,
      "outputs": []
    },
    {
      "cell_type": "markdown",
      "metadata": {
        "id": "vAxOi8kKDT2p",
        "colab_type": "text"
      },
      "source": [
        "<body>\n",
        "\n",
        "## <h4><u>Question 1</u></h4>\n",
        "\n",
        "The <u>tracking error</u> is a key component in evaluating the performance of an exchange traded fund. A lower tracking error is one of the key selling points for any ETF. An estimate of daily tracking error (\"$TE$\") can be based on the following formula:<br>\n",
        "<br>$$\n",
        "TE = \\sqrt{ \\frac {\\Sigma_{t = 1}^{T} (R_{ETF}(t) - R_{BMK}(t))^{2}} {T - 1} } $$\n",
        "<br>Here, \"$R_{BMK}(t)$\" and \"$R_{ETF}(t)$\" denote the daily return of the benchmark and the exchange-traded fund respectively, at time \"$t$\". \"$N$\" denotes the total number of trading periods considered. In this case, days, so \"$T = 252$\" to obtain an estimate of annualized tracking error.\n",
        "\n",
        "For this question, \"<code>NIFTY-TotalReturnsIndex.csv</code>\" for 2016-2017 period has been provided, alongside historical NAV data in CSV files during the same time span for the following NIFTY ETFs: \"<code>Reliance</code>\", \"<code>Kotak</code>\", \"<code>HDFC</code>\" and \"<code>UTI</code>\". Compute the annualized tracking error for each one in 2016 and 2017 separately.</body>"
      ]
    },
    {
      "cell_type": "code",
      "metadata": {
        "id": "qrQ2rNGvDwDv",
        "colab_type": "code",
        "colab": {
          "base_uri": "https://localhost:8080/",
          "height": 284
        },
        "outputId": "4c11d568-1157-465f-c410-da697065a082"
      },
      "source": [
        "# Nifty ETFs between which we will compare.\n",
        "ETFs = [\"Reliance\", \"Kotak\", \"HDFC\", \"UTI\"]\n",
        "# Generate base dataframe with index file.\n",
        "Data_Q1 = read_csv(url = repo + \"/1) NIFTY-TotalReturnsIndex.csv\")\n",
        "Data_Q1.rename(columns = {Data_Q1.columns[0]: \"Benchmark\"}, inplace = True)\n",
        "# Add ETF data to dataframe\n",
        "for ETF in ETFs:\n",
        "    url = repo + \"/1) ETF Nifty %s.csv\" % ETF\n",
        "    Data_Q1[ETF + \" NAV\"] = read_csv(url = url)\n",
        "# Solve NaN values with forward fill method.\n",
        "Data_Q1.fillna(method = \"ffill\", inplace = True)\n",
        "# Calculate returns.\n",
        "Data_Q1 = Data_Q1.pct_change().fillna(method = \"bfill\")\n",
        "print(\"\\nDataframe peek:\\n‾‾‾‾‾‾‾‾‾‾‾‾‾‾\")\n",
        "Data_Q1.head()"
      ],
      "execution_count": 10,
      "outputs": [
        {
          "output_type": "stream",
          "text": [
            "\n",
            "Dataframe peek:\n",
            "‾‾‾‾‾‾‾‾‾‾‾‾‾‾\n"
          ],
          "name": "stdout"
        },
        {
          "output_type": "execute_result",
          "data": {
            "text/html": [
              "<div>\n",
              "<style scoped>\n",
              "    .dataframe tbody tr th:only-of-type {\n",
              "        vertical-align: middle;\n",
              "    }\n",
              "\n",
              "    .dataframe tbody tr th {\n",
              "        vertical-align: top;\n",
              "    }\n",
              "\n",
              "    .dataframe thead th {\n",
              "        text-align: right;\n",
              "    }\n",
              "</style>\n",
              "<table border=\"1\" class=\"dataframe\">\n",
              "  <thead>\n",
              "    <tr style=\"text-align: right;\">\n",
              "      <th></th>\n",
              "      <th>Benchmark</th>\n",
              "      <th>Reliance NAV</th>\n",
              "      <th>Kotak NAV</th>\n",
              "      <th>HDFC NAV</th>\n",
              "      <th>UTI NAV</th>\n",
              "    </tr>\n",
              "    <tr>\n",
              "      <th>Date</th>\n",
              "      <th></th>\n",
              "      <th></th>\n",
              "      <th></th>\n",
              "      <th></th>\n",
              "      <th></th>\n",
              "    </tr>\n",
              "  </thead>\n",
              "  <tbody>\n",
              "    <tr>\n",
              "      <th>2016-01-01</th>\n",
              "      <td>-0.0216</td>\n",
              "      <td>-0.0183</td>\n",
              "      <td>-0.0150</td>\n",
              "      <td>-0.0096</td>\n",
              "      <td>-0.0106</td>\n",
              "    </tr>\n",
              "    <tr>\n",
              "      <th>2016-01-04</th>\n",
              "      <td>-0.0216</td>\n",
              "      <td>-0.0183</td>\n",
              "      <td>-0.0150</td>\n",
              "      <td>-0.0096</td>\n",
              "      <td>-0.0106</td>\n",
              "    </tr>\n",
              "    <tr>\n",
              "      <th>2016-01-05</th>\n",
              "      <td>-0.0009</td>\n",
              "      <td>-0.0006</td>\n",
              "      <td>-0.0055</td>\n",
              "      <td>-0.0077</td>\n",
              "      <td>-0.0011</td>\n",
              "    </tr>\n",
              "    <tr>\n",
              "      <th>2016-01-06</th>\n",
              "      <td>-0.0056</td>\n",
              "      <td>-0.0059</td>\n",
              "      <td>-0.0023</td>\n",
              "      <td>0.0083</td>\n",
              "      <td>-0.0069</td>\n",
              "    </tr>\n",
              "    <tr>\n",
              "      <th>2016-01-07</th>\n",
              "      <td>-0.0223</td>\n",
              "      <td>-0.0207</td>\n",
              "      <td>-0.0178</td>\n",
              "      <td>-0.0283</td>\n",
              "      <td>-0.0201</td>\n",
              "    </tr>\n",
              "  </tbody>\n",
              "</table>\n",
              "</div>"
            ],
            "text/plain": [
              "            Benchmark  Reliance NAV  Kotak NAV  HDFC NAV  UTI NAV\n",
              "Date                                                             \n",
              "2016-01-01    -0.0216       -0.0183    -0.0150   -0.0096  -0.0106\n",
              "2016-01-04    -0.0216       -0.0183    -0.0150   -0.0096  -0.0106\n",
              "2016-01-05    -0.0009       -0.0006    -0.0055   -0.0077  -0.0011\n",
              "2016-01-06    -0.0056       -0.0059    -0.0023    0.0083  -0.0069\n",
              "2016-01-07    -0.0223       -0.0207    -0.0178   -0.0283  -0.0201"
            ]
          },
          "metadata": {
            "tags": []
          },
          "execution_count": 10
        }
      ]
    },
    {
      "cell_type": "markdown",
      "metadata": {
        "id": "G9uyfQW-kHbb",
        "colab_type": "text"
      },
      "source": [
        "<body>\n",
        "\n",
        "Downloaded CSV files contain prices, but tracking error must be calculated over returns.<br>Therefore, \"<code>Data_Q1</code>\" must be replaced by its percentage changes, as done on the last line above.\n",
        "</body>"
      ]
    },
    {
      "cell_type": "code",
      "metadata": {
        "id": "YCBtOUoGd1QI",
        "colab_type": "code",
        "outputId": "4cc5e0c7-c133-44e7-a9aa-7b040cc38ee0",
        "colab": {
          "base_uri": "https://localhost:8080/",
          "height": 144
        }
      },
      "source": [
        "# Tracking errors:\n",
        "TE = pandas.DataFrame(columns = Data_Q1.columns)\n",
        "diffs = Data_Q1.sub(other = Data_Q1[\"Benchmark\"], axis = \"index\")\n",
        "# For each year in dataframe...\n",
        "for year in set(Data_Q1.index.year):\n",
        "    diff = diffs[Data_Q1.index.year == year]\n",
        "    count = diff.count() # Amount of \"N\" rows belonging to that year.\n",
        "                         #       √{ Σ (R - RB)² / (N - 1) }\n",
        "    TE.loc[year, TE.columns] = ((diff**2).sum()/(count - 1))**(1/2)\n",
        "TE.drop(columns = \"Benchmark\", inplace = True)\n",
        "print(\"Tracking errors:\\n\" + 15*\"‾\")\n",
        "# Display as percentage.\n",
        "pandas.options.display.float_format = '{:.2f}%'.format\n",
        "(TE*100).iloc[:]"
      ],
      "execution_count": 11,
      "outputs": [
        {
          "output_type": "stream",
          "text": [
            "Tracking errors:\n",
            "‾‾‾‾‾‾‾‾‾‾‾‾‾‾‾\n"
          ],
          "name": "stdout"
        },
        {
          "output_type": "execute_result",
          "data": {
            "text/html": [
              "<div>\n",
              "<style scoped>\n",
              "    .dataframe tbody tr th:only-of-type {\n",
              "        vertical-align: middle;\n",
              "    }\n",
              "\n",
              "    .dataframe tbody tr th {\n",
              "        vertical-align: top;\n",
              "    }\n",
              "\n",
              "    .dataframe thead th {\n",
              "        text-align: right;\n",
              "    }\n",
              "</style>\n",
              "<table border=\"1\" class=\"dataframe\">\n",
              "  <thead>\n",
              "    <tr style=\"text-align: right;\">\n",
              "      <th></th>\n",
              "      <th>Reliance NAV</th>\n",
              "      <th>Kotak NAV</th>\n",
              "      <th>HDFC NAV</th>\n",
              "      <th>UTI NAV</th>\n",
              "    </tr>\n",
              "  </thead>\n",
              "  <tbody>\n",
              "    <tr>\n",
              "      <th>2016</th>\n",
              "      <td>0.22%</td>\n",
              "      <td>0.33%</td>\n",
              "      <td>0.73%</td>\n",
              "      <td>0.67%</td>\n",
              "    </tr>\n",
              "    <tr>\n",
              "      <th>2017</th>\n",
              "      <td>0.14%</td>\n",
              "      <td>0.24%</td>\n",
              "      <td>0.37%</td>\n",
              "      <td>0.52%</td>\n",
              "    </tr>\n",
              "  </tbody>\n",
              "</table>\n",
              "</div>"
            ],
            "text/plain": [
              "     Reliance NAV Kotak NAV HDFC NAV UTI NAV\n",
              "2016        0.22%     0.33%    0.73%   0.67%\n",
              "2017        0.14%     0.24%    0.37%   0.52%"
            ]
          },
          "metadata": {
            "tags": []
          },
          "execution_count": 11
        }
      ]
    },
    {
      "cell_type": "markdown",
      "metadata": {
        "id": "ET3q1YNWwHRt",
        "colab_type": "text"
      },
      "source": [
        "<body>\n",
        "\n",
        "## <h4><u>Question 2</u></h4>\n",
        "\n",
        "This question deals with the computation of returns and sharpe ratio for a simple asset allocation strategy.<br>The following are the details of the strategy:\n",
        "<ul> <li>Initial capital: \"$B_{0} =$ ₹ 100 M\".\n",
        "</li><li>Portfolio allocation date: \"$t_{0} =$ 2016-Jan-01\".</li>\n",
        "</li><li>Portfolio redemption date: \"$t_{f} =$ 2017-Dec-30\".</li>\n",
        "</li><li>Capital invested among Nifty (N), Junior (J) and Gold (G) BeES.\n",
        "<br>Allocated fractions: \"$w_{N} = 0.5$\", \"$w_{J} = 0.2$\" and \"$w_{G} = 0.3$\".\n",
        "</li><li>The portfolio is rebalanced <u>only at the end of every quarter</u>.\n",
        "<br>Weights are then brought back to the initial allocation, i.e: \"$5:2:3$\".\n",
        "</li></ul>\n",
        "\n",
        "Note that the rebalancing should be done on the last day of each\n",
        "quarter and hence the close prices on the last working day of each quarter should be used for rebalancing portfolio.\n",
        "\n",
        "Compute the <b><u>Sharpe ratio</u></b> of your asset allocation strategy for 2016 and 2017. Assume zero transaction costs for quarterly rebalancing. Assume you can rebalance based on end of the day NAV. The Historical NAV ﬁles for the 3 BeES are provided with the assignment. </body>"
      ]
    },
    {
      "cell_type": "code",
      "metadata": {
        "id": "_U-F1obH14Go",
        "colab_type": "code",
        "colab": {
          "base_uri": "https://localhost:8080/",
          "height": 385
        },
        "outputId": "927f71ca-9ef9-4166-c822-4993d039ae83"
      },
      "source": [
        "# Nifty ETFs between which we will compare.\n",
        "pandas.options.display.float_format = '{:.0f}%'.format\n",
        "ETFs = pandas.DataFrame(index = [\"Weight:\"],\n",
        "     data = {\"Nifty\": 0.5, \"Junior\": 0.2, \"Gold\": 0.3})\n",
        "print(\"Portfolio allocation:\\n‾‾‾‾‾‾‾‾‾‾‾‾‾‾‾‾‾‾‾‾\")\n",
        "print((100*ETFs).head())\n",
        "# Reformat numbers as floats.\n",
        "pandas.options.display.float_format = '{:.4f}'.format\n",
        "# Generate base dataframe with index file.\n",
        "Data_Q2 = pandas.DataFrame(columns = ETFs.columns,\n",
        "                           index = Data_Q1.index)\n",
        "# Add ETF data to dataframe\n",
        "for ETF in ETFs.columns:\n",
        "    url = repo + \"/ETF %s.csv\" % ETF\n",
        "    Data_Q2[ETF] = read_csv(url = url)\n",
        "# Solve NaN values with forward fill method.\n",
        "Data_Q2.fillna(method = \"ffill\", inplace = True)\n",
        "# Calculate returns.\n",
        "Data_Q2 = Data_Q2.pct_change().fillna(method = \"bfill\")\n",
        "print(\"\\nDataframe peek:\\n‾‾‾‾‾‾‾‾‾‾‾‾‾‾\")\n",
        "Data_Q2.iloc[numpy.r_[0:3, -3:0]]"
      ],
      "execution_count": 12,
      "outputs": [
        {
          "output_type": "stream",
          "text": [
            "Portfolio allocation:\n",
            "‾‾‾‾‾‾‾‾‾‾‾‾‾‾‾‾‾‾‾‾\n",
            "         Nifty  Junior  Gold\n",
            "Weight:    50%     20%   30%\n",
            "\n",
            "Dataframe peek:\n",
            "‾‾‾‾‾‾‾‾‾‾‾‾‾‾\n"
          ],
          "name": "stdout"
        },
        {
          "output_type": "execute_result",
          "data": {
            "text/html": [
              "<div>\n",
              "<style scoped>\n",
              "    .dataframe tbody tr th:only-of-type {\n",
              "        vertical-align: middle;\n",
              "    }\n",
              "\n",
              "    .dataframe tbody tr th {\n",
              "        vertical-align: top;\n",
              "    }\n",
              "\n",
              "    .dataframe thead th {\n",
              "        text-align: right;\n",
              "    }\n",
              "</style>\n",
              "<table border=\"1\" class=\"dataframe\">\n",
              "  <thead>\n",
              "    <tr style=\"text-align: right;\">\n",
              "      <th></th>\n",
              "      <th>Nifty</th>\n",
              "      <th>Junior</th>\n",
              "      <th>Gold</th>\n",
              "    </tr>\n",
              "    <tr>\n",
              "      <th>Date</th>\n",
              "      <th></th>\n",
              "      <th></th>\n",
              "      <th></th>\n",
              "    </tr>\n",
              "  </thead>\n",
              "  <tbody>\n",
              "    <tr>\n",
              "      <th>2016-01-01</th>\n",
              "      <td>-0.0183</td>\n",
              "      <td>-0.0149</td>\n",
              "      <td>0.0107</td>\n",
              "    </tr>\n",
              "    <tr>\n",
              "      <th>2016-01-04</th>\n",
              "      <td>-0.0183</td>\n",
              "      <td>-0.0149</td>\n",
              "      <td>0.0107</td>\n",
              "    </tr>\n",
              "    <tr>\n",
              "      <th>2016-01-05</th>\n",
              "      <td>-0.0006</td>\n",
              "      <td>0.0037</td>\n",
              "      <td>0.0065</td>\n",
              "    </tr>\n",
              "    <tr>\n",
              "      <th>2017-12-27</th>\n",
              "      <td>-0.0004</td>\n",
              "      <td>-0.0046</td>\n",
              "      <td>0.0062</td>\n",
              "    </tr>\n",
              "    <tr>\n",
              "      <th>2017-12-28</th>\n",
              "      <td>-0.0023</td>\n",
              "      <td>-0.0024</td>\n",
              "      <td>0.0079</td>\n",
              "    </tr>\n",
              "    <tr>\n",
              "      <th>2017-12-29</th>\n",
              "      <td>0.0043</td>\n",
              "      <td>0.0060</td>\n",
              "      <td>-0.0040</td>\n",
              "    </tr>\n",
              "  </tbody>\n",
              "</table>\n",
              "</div>"
            ],
            "text/plain": [
              "             Nifty  Junior    Gold\n",
              "Date                              \n",
              "2016-01-01 -0.0183 -0.0149  0.0107\n",
              "2016-01-04 -0.0183 -0.0149  0.0107\n",
              "2016-01-05 -0.0006  0.0037  0.0065\n",
              "2017-12-27 -0.0004 -0.0046  0.0062\n",
              "2017-12-28 -0.0023 -0.0024  0.0079\n",
              "2017-12-29  0.0043  0.0060 -0.0040"
            ]
          },
          "metadata": {
            "tags": []
          },
          "execution_count": 12
        }
      ]
    },
    {
      "cell_type": "markdown",
      "metadata": {
        "id": "OXE-PmbVHFze",
        "colab_type": "text"
      },
      "source": [
        "<body>\n",
        "\n",
        "Consider the initial investments' values vector as \"$\\bar{B}(t_{0}) = B_{0}\\bar{w}$\". In this case, \"$\\bar{w} = (w_{N};\\;w_{J};\\;w_{G})$\". So our amount of shares \"$\\bar{Q}$\" bought for each instrument, is the allocated investment for them, divided element-wise by the corresponding prices at start time: \"$ \\bar{Q} = \\bar{B}/\\bar{P}(t_{0}) $\".\n",
        "\n",
        "When rebalancing date/time comes, the value of our investment is the amount of shares for each ETF, multiplied elementwise (\"$\\cdot$\") by the most recent prices: \"$ \\bar{B}(t_{f}) = \\bar{Q} \\cdot \\bar{P}(t_{f}) $\". Joining all the equations of the previous paragraphs up to now:\n",
        "\n",
        "$$ \\bar{B}(t_{f}) = B_{0} \\bar{w} \\cdot \\frac{\\bar{P}(t_{f})}{\\bar{P}(t_{0})} $$\n",
        "\n",
        "The net growth of our capital is thus the sum of all our final values \"$ B_{f} = \\Sigma_{n = 1}^{3} \\; B_{n}(t_{f})$\" divided by the starting investment.<br>Note that the quotient of prices is the vector of returns \"$\\bar{R}$\", and \"$\\bullet$\" depicts the dot product:\n",
        "\n",
        "$$ \\frac{B_{f}}{B_{0}} =  \\; \\bar{w} \\bullet \\bar{R} $$\n",
        "\n",
        "For the calculation of the Sharpe ratio in our portfolio during a defined period of time (i.e.: a quarter/3 months), we need to find the mean return vector \"$\\bar{R}_{m}$\" and the covariance matrix \"$𝕍$\" for the combination of the allocated ETFs. The mean return \"$R_{m}(\\bar{w})$\", variance \"$\\sigma(\\bar{w})^{2}$\" and Sharpe ratios \"$\\bar{S}(\\bar{w})$\" for our portfolio with respect to mean returns \"$\\bar{R}_{m}$\" as benchmark references, can be worked out as:\n",
        "\n",
        "$$ R_{m}(\\bar{w}) = \\bar{R}_{m} \\bullet \\bar{w} \\qquad\\qquad\n",
        "\\sigma(\\bar{w})^{2} = \\bar{w} \\bullet 𝕍 \\bullet \\bar{w}^{T} \\qquad\\qquad \n",
        "\\bar{S}(\\bar{w}) = \\frac{R_{m}(\\bar{w}) - \\bar{R}_{m}}{\\sigma(\\bar{w})} $$\n",
        "\n",
        "So at first sight, the strategy seems to involve:\n",
        "<ul> <li>Finding the returns for each quarter in all instruments, \"$\\bar{R}$\".\n",
        "</li><li>Mean quarterly return vector \"$\\bar{R}_{m}$\" and covariance matrix \"$𝕍$\" for each year.\n",
        "</li><li>Yearly Sharpes...\n",
        "<ul> <li>...with references as no investment (\"$\\bar{R}_{m} = 0$\"),\n",
        "</li><li>...and with each of the 3 ETFs (our original \"$\\bar{R}_{m}$\").\n",
        "</li></ul></ul>\n",
        "\n",
        "Sources:\n",
        "<ul> <li>\"<a href = \"https://blog.quantinsti.com/calculating-covariance-matrix-portfolio-variance/\">Calculating the covariance matrix and portfolio variance</a>\" by V. Divakar\n",
        "</li><li>\"<a href = \"https://core.ac.uk/download/pdf/41993265.pdf\">Sharpe ratio of estimated efficient portfolios</a>\" by A. Kourtis (page 3)</li></ul></body>"
      ]
    },
    {
      "cell_type": "code",
      "metadata": {
        "id": "u9Bf5mjtFH7z",
        "colab_type": "code",
        "outputId": "241a37df-baf8-4373-86a6-d818b3837a7a",
        "colab": {
          "base_uri": "https://localhost:8080/",
          "height": 144
        }
      },
      "source": [
        "# Dataframe for storing statistics.\n",
        "Stats = pandas.DataFrame(dtype = float)\n",
        "for year in set(Data_Q2.index.year):\n",
        "    rets_y = Data_Q2[Data_Q2.index.year == year].to_period(freq = \"Q\")\n",
        "    rets_q = pandas.DataFrame(columns = rets_y.columns, dtype = float)\n",
        "    for quarter in set(rets_y.index.quarter):\n",
        "        # Log returns at the end of each year's quarter.\n",
        "        X = 1 + rets_y[rets_y.index.quarter == quarter]\n",
        "        log_X = X.apply(lambda x: numpy.log(x), axis = \"index\")\n",
        "        rets_q.loc[quarter, rets_y.columns] = log_X.sum()\n",
        "    # Calculate year's mean return vector and covariance matrix.\n",
        "    Mean, Mcov = rets_q.mean(), numpy.matrix(rets_q.cov())\n",
        "    # ETFs dataframe has the shape of the allocation vector \"w\".\n",
        "    Stats.loc[year, \"Mean returns\"] = float(ETFs.dot(Mean))\n",
        "    std_dev = numpy.dot(ETFs.dot(Mcov), ETFs.transpose())**(1/2)\n",
        "    Stats.loc[year, \"S. deviation\"] = float(std_dev)\n",
        "    sharpe = float(ETFs.dot(Mean))/float(std_dev)\n",
        "    Stats.loc[year, \"No invest\"] = sharpe\n",
        "    for b, Bmk in enumerate(Mean.index): # Benchmarks\n",
        "        sharpe = float(ETFs.dot(Mean) - Mean[Bmk])/(Mcov[b, b]**(1/2))\n",
        "        Stats.loc[year, Bmk] = sharpe\n",
        "\n",
        "# Display as percentage.\n",
        "print(\"Yearly Sharpe ratios:\" + 15*\" \" + \"...based on benchmark reference:\")\n",
        "print(\"‾‾‾‾‾‾‾‾‾‾‾‾‾‾‾‾‾‾‾‾ \" + 12*\" \" + \"|\" + 36*\"‾\" + \"|\")\n",
        "pandas.options.display.float_format = '{:.2f}%'.format\n",
        "(Stats*100).iloc[:]"
      ],
      "execution_count": 13,
      "outputs": [
        {
          "output_type": "stream",
          "text": [
            "Yearly Sharpe ratios:               ...based on benchmark reference:\n",
            "‾‾‾‾‾‾‾‾‾‾‾‾‾‾‾‾‾‾‾‾             |‾‾‾‾‾‾‾‾‾‾‾‾‾‾‾‾‾‾‾‾‾‾‾‾‾‾‾‾‾‾‾‾‾‾‾‾|\n"
          ],
          "name": "stdout"
        },
        {
          "output_type": "execute_result",
          "data": {
            "text/html": [
              "<div>\n",
              "<style scoped>\n",
              "    .dataframe tbody tr th:only-of-type {\n",
              "        vertical-align: middle;\n",
              "    }\n",
              "\n",
              "    .dataframe tbody tr th {\n",
              "        vertical-align: top;\n",
              "    }\n",
              "\n",
              "    .dataframe thead th {\n",
              "        text-align: right;\n",
              "    }\n",
              "</style>\n",
              "<table border=\"1\" class=\"dataframe\">\n",
              "  <thead>\n",
              "    <tr style=\"text-align: right;\">\n",
              "      <th></th>\n",
              "      <th>Mean returns</th>\n",
              "      <th>S. deviation</th>\n",
              "      <th>No invest</th>\n",
              "      <th>Nifty</th>\n",
              "      <th>Junior</th>\n",
              "      <th>Gold</th>\n",
              "    </tr>\n",
              "  </thead>\n",
              "  <tbody>\n",
              "    <tr>\n",
              "      <th>2016</th>\n",
              "      <td>1.41%</td>\n",
              "      <td>6.17%</td>\n",
              "      <td>22.82%</td>\n",
              "      <td>17.08%</td>\n",
              "      <td>2.79%</td>\n",
              "      <td>-18.50%</td>\n",
              "    </tr>\n",
              "    <tr>\n",
              "      <th>2017</th>\n",
              "      <td>5.32%</td>\n",
              "      <td>3.06%</td>\n",
              "      <td>173.71%</td>\n",
              "      <td>-32.11%</td>\n",
              "      <td>-74.71%</td>\n",
              "      <td>193.86%</td>\n",
              "    </tr>\n",
              "  </tbody>\n",
              "</table>\n",
              "</div>"
            ],
            "text/plain": [
              "      Mean returns  S. deviation  No invest   Nifty  Junior    Gold\n",
              "2016         1.41%         6.17%     22.82%  17.08%   2.79% -18.50%\n",
              "2017         5.32%         3.06%    173.71% -32.11% -74.71% 193.86%"
            ]
          },
          "metadata": {
            "tags": []
          },
          "execution_count": 13
        }
      ]
    },
    {
      "cell_type": "markdown",
      "metadata": {
        "id": "zhEUlOAuNO5Y",
        "colab_type": "text"
      },
      "source": [
        "<body>\n",
        "\n",
        "## <h4><u>Question 3</u></h4>\n",
        "\n",
        "The following are the details of the strategy:\n",
        "<ul> <li>Initial capital: \"$B_{0} =$ ₹ 100 M\".\n",
        "</li><li>Portfolio allocation date: \"$t_{0} =$ 2016-Jan-01\".\n",
        "</li><li>Portfolio redemption date: \"$t_{f} =$ 2017-Dec-30\".\n",
        "</li><li>Capital equally allocated among 10 selected stocks from the NSE.\n",
        "</li><li>No rebalancing between allocation and redemption date.</li></ul>\n",
        "\n",
        "Compute the daily portfolio returns \"$R(t)$\" from start till redemption date.<br>The historical NAV files for Nifty BeES and Junior BeES are provided with the assignment.<br>Do a <b><u>linear regression</u></b> of your portfolio returns on Nifty (\"$N$\") and Junior (\"$J$\") ETF daily returns:\n",
        "\n",
        "$$ R(t) = \\beta_{0} + \\beta_{N} R_{N}(t) + \\beta_{J} R_{J}(t) + \\epsilon(t) $$\n",
        "</body>"
      ]
    },
    {
      "cell_type": "code",
      "metadata": {
        "id": "pshOIrpKSqv9",
        "colab_type": "code",
        "colab": {
          "base_uri": "https://localhost:8080/",
          "height": 438
        },
        "outputId": "b2100824-64d4-4bac-c3a8-d53ea6ccbd3f"
      },
      "source": [
        "# Selection of 10 NSE stocks.\n",
        "stocks = [\"TATAMOTORS\", \"BHARTIARTL\", \"HINDPETRO\", \"BLUEDART\", \"TECHM\",\n",
        "          \"JETAIRWAYS\", \"DEEPAKFERT\", \"HDFCBANK\", \"AXISBANK\", \"MARUTI\"]\n",
        "start, end = Data_Q2.index[[0, -1]] # Same dates as previous exercises.\n",
        "Data_Q3 = yfinance.download(tickers = [stk + \".NS\" for stk in stocks],\n",
        "                             start = start, end = end, periods = \"1d\")\n",
        "# Find returns for each.\n",
        "Data_Q3 = Data_Q3[\"Close\"].pct_change().fillna(method = \"bfill\")\n",
        "Data_Q3.columns = [stk[:-3] for stk in Data_Q3.columns]\n",
        "# Allocation dataframe with portfolio weights for ETFs.\n",
        "pandas.options.display.float_format = '{:.0f}%'.format\n",
        "NSEs = pandas.DataFrame(data = dict(zip(stocks, [0.1]*10)), index = [\"Weight\"])\n",
        "print(\"Portfolio allocation:\\n‾‾‾‾‾‾‾‾‾‾‾‾‾‾‾‾‾‾‾‾\\n\", (100*NSEs).head())\n",
        "# Get back to non-percentage float formatting in dataframes.\n",
        "pandas.options.display.float_format = '{:.4f}'.format\n",
        "# Add portfolio column by summing weighted returns' dataframe.\n",
        "Data_Q3[\"Portfolio\"] = numpy.dot(Data_Q3, NSEs.transpose())\n",
        "# Add ETF data to dataframe\n",
        "for ETF in [\"Nifty\", \"Junior\"]:\n",
        "    url = repo + \"/ETF %s.csv\" % ETF\n",
        "    data_etf = read_csv(url = url).pct_change()\n",
        "    Data_Q3[ETF] = data_etf.fillna(method = \"bfill\")\n",
        "print(\"\\nDataframe peek: (portfolio returns)\\n‾‾‾‾‾‾‾‾‾‾‾‾‾‾\")\n",
        "Data_Q3.iloc[numpy.r_[0:3, -3:0], -3:]"
      ],
      "execution_count": 14,
      "outputs": [
        {
          "output_type": "stream",
          "text": [
            "[*********************100%***********************]  10 of 10 completed\n",
            "Portfolio allocation:\n",
            "‾‾‾‾‾‾‾‾‾‾‾‾‾‾‾‾‾‾‾‾\n",
            "         TATAMOTORS  BHARTIARTL  HINDPETRO  ...  HDFCBANK  AXISBANK  MARUTI\n",
            "Weight         10%         10%        10%  ...       10%       10%     10%\n",
            "\n",
            "[1 rows x 10 columns]\n",
            "\n",
            "Dataframe peek: (portfolio returns)\n",
            "‾‾‾‾‾‾‾‾‾‾‾‾‾‾\n"
          ],
          "name": "stdout"
        },
        {
          "output_type": "execute_result",
          "data": {
            "text/html": [
              "<div>\n",
              "<style scoped>\n",
              "    .dataframe tbody tr th:only-of-type {\n",
              "        vertical-align: middle;\n",
              "    }\n",
              "\n",
              "    .dataframe tbody tr th {\n",
              "        vertical-align: top;\n",
              "    }\n",
              "\n",
              "    .dataframe thead th {\n",
              "        text-align: right;\n",
              "    }\n",
              "</style>\n",
              "<table border=\"1\" class=\"dataframe\">\n",
              "  <thead>\n",
              "    <tr style=\"text-align: right;\">\n",
              "      <th></th>\n",
              "      <th>Portfolio</th>\n",
              "      <th>Nifty</th>\n",
              "      <th>Junior</th>\n",
              "    </tr>\n",
              "    <tr>\n",
              "      <th>Date</th>\n",
              "      <th></th>\n",
              "      <th></th>\n",
              "      <th></th>\n",
              "    </tr>\n",
              "  </thead>\n",
              "  <tbody>\n",
              "    <tr>\n",
              "      <th>2016-01-01</th>\n",
              "      <td>-0.0224</td>\n",
              "      <td>-0.0183</td>\n",
              "      <td>-0.0149</td>\n",
              "    </tr>\n",
              "    <tr>\n",
              "      <th>2016-01-04</th>\n",
              "      <td>-0.0224</td>\n",
              "      <td>-0.0183</td>\n",
              "      <td>-0.0149</td>\n",
              "    </tr>\n",
              "    <tr>\n",
              "      <th>2016-01-05</th>\n",
              "      <td>-0.0016</td>\n",
              "      <td>-0.0006</td>\n",
              "      <td>0.0037</td>\n",
              "    </tr>\n",
              "    <tr>\n",
              "      <th>2017-12-26</th>\n",
              "      <td>0.0113</td>\n",
              "      <td>0.0032</td>\n",
              "      <td>0.0047</td>\n",
              "    </tr>\n",
              "    <tr>\n",
              "      <th>2017-12-27</th>\n",
              "      <td>-0.0002</td>\n",
              "      <td>-0.0004</td>\n",
              "      <td>-0.0046</td>\n",
              "    </tr>\n",
              "    <tr>\n",
              "      <th>2017-12-28</th>\n",
              "      <td>0.0020</td>\n",
              "      <td>-0.0023</td>\n",
              "      <td>-0.0024</td>\n",
              "    </tr>\n",
              "  </tbody>\n",
              "</table>\n",
              "</div>"
            ],
            "text/plain": [
              "            Portfolio   Nifty  Junior\n",
              "Date                                 \n",
              "2016-01-01    -0.0224 -0.0183 -0.0149\n",
              "2016-01-04    -0.0224 -0.0183 -0.0149\n",
              "2016-01-05    -0.0016 -0.0006  0.0037\n",
              "2017-12-26     0.0113  0.0032  0.0047\n",
              "2017-12-27    -0.0002 -0.0004 -0.0046\n",
              "2017-12-28     0.0020 -0.0023 -0.0024"
            ]
          },
          "metadata": {
            "tags": []
          },
          "execution_count": 14
        }
      ]
    },
    {
      "cell_type": "markdown",
      "metadata": {
        "id": "nosRqSXZcqFG",
        "colab_type": "text"
      },
      "source": [
        "<body><p>\n",
        "So the linear regression model may be found by finding the coefficients with the ordinary least-squares to fit a plane equation towards the retrieved returns' data. Function \"<code>OLS</code>\" from \"<code>statsmodels</code>\" package will be used for this due to its versatility in result presentation and retrieval.\n",
        "</p></body>"
      ]
    },
    {
      "cell_type": "code",
      "metadata": {
        "id": "qe5iRh1kd3Wi",
        "colab_type": "code",
        "colab": {
          "base_uri": "https://localhost:8080/",
          "height": 550
        },
        "outputId": "9ffd779f-ec42-44dc-97c5-8c9cb656c91e"
      },
      "source": [
        "# Create ordinary least-squares' predictor.\n",
        "regr = {\"endog\": Data_Q3[\"Portfolio\"],\n",
        "         \"exog\": Data_Q3.iloc[:, -2:]}\n",
        "model = statsmodels.api.OLS(**regr).fit()\n",
        "print(model.summary(), \"\\n\")\n",
        "# Print coefficients on the same line.\n",
        "import sys\n",
        "sys.stdout.write(\"Linear regression coefficients:\")\n",
        "for beta in model.params.keys():\n",
        "    sys.stdout.write(\"    \\u03B2[%s] = %0.4f\" \\\n",
        "                  % (beta, model.params[beta]))\n",
        "    sys.stdout.flush()\n",
        "print(\"\\n\" + 30*\"‾\")\n",
        "# Coefficient of indetermination.\n",
        "print(\"Portion of portfolio not foreseen from chosen ETF NAVs:\", \\\n",
        "      \"'1 - R\\u00B2 = %.2f%%'\" % (100*(1 - model.rsquared_adj)))\n",
        "print(54*\"‾\")"
      ],
      "execution_count": 15,
      "outputs": [
        {
          "output_type": "stream",
          "text": [
            "                                 OLS Regression Results                                \n",
            "=======================================================================================\n",
            "Dep. Variable:              Portfolio   R-squared (uncentered):                   0.716\n",
            "Model:                            OLS   Adj. R-squared (uncentered):              0.715\n",
            "Method:                 Least Squares   F-statistic:                              619.6\n",
            "Date:                Sat, 06 Jun 2020   Prob (F-statistic):                   5.06e-135\n",
            "Time:                        05:10:24   Log-Likelihood:                          1861.0\n",
            "No. Observations:                 493   AIC:                                     -3718.\n",
            "Df Residuals:                     491   BIC:                                     -3710.\n",
            "Df Model:                           2                                                  \n",
            "Covariance Type:            nonrobust                                                  \n",
            "==============================================================================\n",
            "                 coef    std err          t      P>|t|      [0.025      0.975]\n",
            "------------------------------------------------------------------------------\n",
            "Nifty          0.7953      0.050     15.908      0.000       0.697       0.893\n",
            "Junior         0.3189      0.037      8.734      0.000       0.247       0.391\n",
            "==============================================================================\n",
            "Omnibus:                        5.288   Durbin-Watson:                   2.244\n",
            "Prob(Omnibus):                  0.071   Jarque-Bera (JB):                6.448\n",
            "Skew:                           0.099   Prob(JB):                       0.0398\n",
            "Kurtosis:                       3.524   Cond. No.                         2.83\n",
            "==============================================================================\n",
            "\n",
            "Warnings:\n",
            "[1] Standard Errors assume that the covariance matrix of the errors is correctly specified. \n",
            "\n",
            "Linear regression coefficients:    β[Nifty] = 0.7953    β[Junior] = 0.3189\n",
            "‾‾‾‾‾‾‾‾‾‾‾‾‾‾‾‾‾‾‾‾‾‾‾‾‾‾‾‾‾‾\n",
            "Portion of portfolio not foreseen from chosen ETF NAVs: '1 - R² = 28.49%'\n",
            "‾‾‾‾‾‾‾‾‾‾‾‾‾‾‾‾‾‾‾‾‾‾‾‾‾‾‾‾‾‾‾‾‾‾‾‾‾‾‾‾‾‾‾‾‾‾‾‾‾‾‾‾‾‾\n"
          ],
          "name": "stdout"
        }
      ]
    },
    {
      "cell_type": "markdown",
      "metadata": {
        "id": "m9yz3tN_x3W0",
        "colab_type": "text"
      },
      "source": [
        "<body><p>\n",
        "Additional regression graphing just for the sake of practice...\n",
        "</p></body>"
      ]
    },
    {
      "cell_type": "code",
      "metadata": {
        "id": "yKZgY9awx7jP",
        "colab_type": "code",
        "colab": {
          "base_uri": "https://localhost:8080/",
          "height": 415
        },
        "outputId": "fcaf15b3-c49a-44c3-87c5-c70573d459ed"
      },
      "source": [
        "# Portfolio returns \"Y\" vs NAV returns \"X1\" & \"X2\".\n",
        "X = numpy.arange(-40, 40, 1)/10  # \"/10\" is ok: will be expressed as %\n",
        "X1, X2 = numpy.meshgrid(X, X)    # so no need to use small numbers.\n",
        "X1, X2 = X1.reshape(-1, 1), X2.reshape(-1, 1)\n",
        "Y = model.predict(exog = numpy.stack((X1, X2), axis = 1).squeeze())\n",
        "# Plot plane and points\n",
        "years = Data_Q3.index.year[[0, -1]]\n",
        "title = \"Portfolio vs NAV returns, %d-%d\" % (years[0], years[1])\n",
        "Figure = matplotlib.pyplot.Figure(figsize = (sw/2, sw/4))\n",
        "Axes = Figure.add_axes([0.1, 0.1, 0.8, 0.8], projection = \"3d\")\n",
        "Plot = Axes.plot(X1, X2, Y, label = \"Regression\", color = \"lime\", alpha = 0.5)\n",
        "Points = Axes.plot(100*Data_Q3[\"Nifty\"], 100*Data_Q3[\"Junior\"],\n",
        "                   100*Data_Q3[\"Portfolio\"], linestyle = \" \", \n",
        "                   color = \"blue\", markersize = 1.5, alpha = 0.85,\n",
        "                   marker = \"*\", label = \"Real data\")\n",
        "Axes.set_xlabel(size = 12, fontweight = \"bold\", xlabel = \"Nifty ETF returns\")\n",
        "Axes.set_ylabel(size = 12, fontweight = \"bold\", ylabel = \"Junior ETF returns\")\n",
        "Axes.set_zlabel(size = 12, fontweight = \"bold\", zlabel = \"Portfolio returns\")\n",
        "Axes.xaxis.set_major_formatter(matplotlib.ticker.FormatStrFormatter('%.0f%%'))\n",
        "Axes.yaxis.set_major_formatter(matplotlib.ticker.FormatStrFormatter('%.0f%%'))\n",
        "Axes.zaxis.set_major_formatter(matplotlib.ticker.FormatStrFormatter('%.0f%%'))\n",
        "Axes.set_title(label = title + \"\\n\" + 40*\"‾\", size = 12, fontweight = \"bold\")\n",
        "legend = Axes.legend(loc = \"upper right\", facecolor = \"gray\", fontsize = 12)\n",
        "for trace in legend.legendHandles:\n",
        "    trace._legmarker.set_markersize(9)\n",
        "    trace._legmarker.set_alpha(1)\n",
        "Figure"
      ],
      "execution_count": 16,
      "outputs": [
        {
          "output_type": "execute_result",
          "data": {
            "image/png": "[encoded data removed]",
            "text/plain": [
              "<Figure size 960x480 with 1 Axes>"
            ]
          },
          "metadata": {
            "tags": []
          },
          "execution_count": 16
        }
      ]
    }
  ]
}