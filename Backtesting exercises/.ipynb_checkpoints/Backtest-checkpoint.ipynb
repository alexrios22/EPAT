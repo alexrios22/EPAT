{
 "cells": [
  {
   "cell_type": "markdown",
   "metadata": {},
   "source": [
    "{[Click here to read this notebook in Google Colab](https://colab.research.google.com/drive/xxxxxxxxxxxxxxxxxxxxxxxxxxxxxxxxx)}\n",
    "\n",
    "<head><link rel = \"stylesheet\" href = \".vscode//custom.css\"></head>\n",
    "\n",
    "<table class = \"header\"><tr>\n",
    "    <th align = \"left\">EPAT Batch 45 | Backtesting, July 2020</th>\n",
    "    <th align = \"right\">Written by: Gaston Solari Loudet</th>\n",
    "</tr></table>\n",
    "\n",
    "### \"Backtest\" class\n",
    "\n",
    "This class intends to follow the ad-hoc procedure for a typical vectorized backtesting task: data download, clean-up, indicator & signal calculation, plotting and performance stats. It makes use of the MetaTrader 5 Python wrapper for direct access to its platform, as a means of downloading data from a wide range of time unit precisions.\n",
    "\n",
    "The following cell downloads the aforementioned library in case it's not already included in this environment."
   ]
  },
  {
   "cell_type": "code",
   "execution_count": null,
   "metadata": {},
   "outputs": [],
   "source": [
    "# Check if MetaTrader5 and ipynb stuff is importable in this Python.\n",
    "import pip, sys, subprocess\n",
    "reqs = subprocess.check_output([sys.executable, '-m', 'pip', 'freeze'])\n",
    "installed_libs = [r.decode().split('==')[0] for r in reqs.split()]\n",
    "for lib in [\"MetaTrader5\", \"ipynb\"]:\n",
    "    if lib not in installed_libs:\n",
    "        print(lib, \"library not installed yet. Downloading/installing it...\")\n",
    "        subprocess.check_call([sys.executable, \"-m\", \"pip\", \"install\", lib])"
   ]
  },
  {
   "cell_type": "markdown",
   "metadata": {},
   "source": [
    "So now let's import the stuff we'll need:\n",
    "* \"``numpy``\" and \"``pandas``\": Mathematical operations for numerical arrays and tables.\n",
    "* \"``pytz``\" and \"``datetime``\": Timezone and calendar time data manipulation.\n",
    "* \"``ta``\": Technical analysis. For moving averages and other indicators (Pandas required).\n",
    "* \"``pyfolio``\": Statistical evaluation of vectorized (\"dataframed\") strategies.\n",
    "* \"``matplotlib``\": Visual representation library. Graph and plot handling.\n",
    "* \"``MetaTrader5``\": Python wrapper for C++ functions inside the platform."
   ]
  },
  {
   "cell_type": "code",
   "execution_count": null,
   "metadata": {},
   "outputs": [],
   "source": [
    "%%capture\n",
    "# Other function packages.\n",
    "import numpy, pandas, statsmodels, ta, pytz\n",
    "import datetime, matplotlib.pyplot, MetaTrader5\n",
    "# Preset (dark) plot properties.\n",
    "git = \"https://raw.githubusercontent.com/gsolaril\"\n",
    "repo, fname =  \"misc-Python/master\", \"gaton.mplstyle\"\n",
    "matplotlib.pyplot.style.use(f\"{git}/{repo}/{fname}\")\n",
    "pandas.plotting.register_matplotlib_converters()\n",
    "colors = matplotlib.cm.ScalarMappable()"
   ]
  },
  {
   "cell_type": "markdown",
   "metadata": {},
   "source": [
    "#### Attributes\n",
    "\n",
    "The class will be largely based in 4 dataframes:\n",
    "* \"``.Data``\": Will deal with \"time-series\" data types: market OHLC data, indicators, signals and trades.\n",
    "* \"``.Specs``\": For storing specific details related to the traded instrument: contract size, point value, etc.\n",
    "* \"``.Stats``\": Akin to \"``pandas.DataFrame.summary``\" method, but with some additional \"financial\" aspects.\n",
    "* \"``.Trades``\": List of trades and their outcomes, like one would see in a trading platform.\n",
    "\n",
    "The \"``.isMT``\" boolean identifies if MetaTrader5 is installed in the CPU. In case it is, it opens the application to interact with it.<br>The \"``.name``\" string just serves as an identifier so as to be able to work with multiple \"``Backtest``\" instances at the same time."
   ]
  },
  {
   "cell_type": "code",
   "execution_count": null,
   "metadata": {},
   "outputs": [],
   "source": [
    "class Backtest(object):\n",
    "    max_rows = 50000\n",
    "    git = \"https://raw.githubusercontent.com/gsolaril\"\n",
    "    repo = \"Trading_EPAT_Python/master/Backtesting%20exercises\"\n",
    "    def __init__(self, name = \"Strategy\"):\n",
    "        self.name = name ; self.isMT = MetaTrader5.initialize()\n",
    "        self.Data = self.Specs = self.Stats = self.Trades = pandas.DataFrame()"
   ]
  },
  {
   "cell_type": "markdown",
   "metadata": {},
   "source": [
    "It is useful to add a \"``__repr__``\" keyword feature so that when we ``print`` a certain instance, one of those dataframe attributes will be showed up. Whether one or the other is shown, depends on the state of progress that the backtesting is actually on. More of this will be elaborated on in upcoming sections.\n",
    "\n",
    "Note that the class will be constantly filled-up and updated with the upcoming features by use of these \"``super()``\" methods.<br>When repeatedly written in the class constructor, this \"overwrites\" the past definition with itself plus the new functions.<br>This avoids needing to write the whole class code in one single cell, while being able to intercalate text cells in between."
   ]
  },
  {
   "cell_type": "code",
   "execution_count": null,
   "metadata": {},
   "outputs": [],
   "source": [
    "from IPython.display import display\n",
    "class Backtest(Backtest):\n",
    "    def __init__(self, name = \"Strategy\"): \n",
    "        super().__init__(name = name)\n",
    "    def __str__(self):\n",
    "        print(f\"Strategy ID: '{self.name}'\")\n",
    "        if not self.Stats.empty: display(self.Stats)\n",
    "        elif not self.Trades.empty: display(self.Trades)\n",
    "        else: display(self.Data)\n",
    "        return \"\""
   ]
  },
  {
   "cell_type": "markdown",
   "metadata": {},
   "source": [
    "As seen on the next code cell, every important function will have an \"``_error``\" section associated, so as to be able to interrupt its execution when input parameters are invalid. It will be added to the class in separate cells, however. Like this, we avoid needing to add numerous \"``assert``\" lines in the function description itself. Functions with a leading underscore (\"``_``\") are coded as \"internal methods\" not to be run outside from class, like usually standardized nowadays.\n",
    "\n",
    "#### Market data download\n",
    "\n",
    "So for retrieval of market data belonging to a certain instrument, we usually need at least 4 pieces of information:\n",
    "\n",
    "1. \"``symbol``\" (string): The identifier that the broker uses to designate the instrument inside its portfolio. <br>We will allow a \"``set``\" of them as input, enabling multi-instrument strategies.\n",
    "2. \"``frame``\" (string): Time step \"XY\" where \"X\" is the unit of measurement, and \"Y\" is the amount per row.<br>(Usually used in manual trading. <u>E.g.</u>: \"M15\" means 15 minutes per row, \"H4\" means 4 hours per row, etc.).\n",
    "3. \"``date``\" (datetime): Last date in the dataframe. MetaTrader creates the history dataframe <u>backwards</u>.\n",
    "4. \"``rows``\" (integer): How many of them will \"``.Data``\" hold. We'll limit such by a certain \"``max_rows``\" to avoid overcharging our RAM."
   ]
  },
  {
   "cell_type": "code",
   "execution_count": null,
   "metadata": {},
   "outputs": [],
   "source": [
    "class Backtest(Backtest):\n",
    "    def __init__(self, name = \"Strategy\"):\n",
    "        super().__init__(name = name)\n",
    "    def _load_data_error(symbols, frame, date, rows):\n",
    "        assert(isinstance(symbols, set) or isinstance(symbols, str))\n",
    "        assert(isinstance(frame, str) and isinstance(rows, int))\n",
    "        assert(rows <= Backtest.max_rows)\n",
    "        assert(isinstance(date, datetime.datetime))"
   ]
  },
  {
   "cell_type": "markdown",
   "metadata": {},
   "source": [
    "Our main subject in this phase is the \"``load_data``\" method which gets these arguments and after some suitable rearrangement (e.g.: assuring the symbol input to be given as a set of \"``{symbols}``\"), it goes on to complete our \"``.Data``\" and \"``.Specs``\" dataframes with that last line.\n",
    "\n",
    "Notice that:\n",
    "* \"``OHLCVS``\" stands for \"**open**\", \"**high**\", \"**low**\", \"**close**\", \"**volume**\" and \"**spread**\" variables.\n",
    "* When given string is given as input of the \"``list``\" function, it returns a list of individual letters.\n",
    "* When a new instance is being created (with empty dataframes), we first generate a \"``MultiIndex``\" column header.<br>That is: we arrange the dataframe for each \"``symbol``\" to have its own group of \"``OHLCVS``\" columns.\n",
    "* When we \"``load_data``\" into an old instance, it skips the multi-indexing and just goes on adding the new columns.<br>This is done with the underscored \"``_load_data``\" and \"``_load_specs``\" methods."
   ]
  },
  {
   "cell_type": "code",
   "execution_count": null,
   "metadata": {},
   "outputs": [],
   "source": [
    "class Backtest(Backtest):\n",
    "    def __init__(self, name = \"Strategy\"): \n",
    "        super().__init__(name = name)\n",
    "    def load_data(self, symbols, frame = \"M5\", rows = 10000,\n",
    "                 date = datetime.datetime(2020, 1, 1, 0, 0)):\n",
    "        Backtest._load_data_error(symbols, frame, date, rows)\n",
    "        if isinstance(symbols, str): symbols = {symbols}\n",
    "        if self.Data.empty:\n",
    "            self.Data = pandas.DataFrame(columns = pandas.MultiIndex.from_product( \\\n",
    "                iterables = (symbols, list(\"OHLCVS\")), names = (\"Symbol\", \"Value\")))\n",
    "        self._load_specs(symbols) ; self._load_data(symbols, frame, date, rows)"
   ]
  },
  {
   "cell_type": "markdown",
   "metadata": {},
   "source": [
    "We look for the corresponding \"``data``\" of each symbol and then add it to the \"``.Data``\" attribute with the upcoming \"``_load_symbol``\" underscored function.\n",
    "* Given MetaTrader 5 is installed (True \"``.isMT``\"), we use the \"``frame``\" string to retrieve the corresponding \"``enum``\" (labelled integer) value that the platform uses to identify the timeframe. We then proceed to download the market data with the \"<code>[copy_rates_from](https://www.mql5.com/en/docs/integration/python_metatrader5/mt5copyratesfrom_py)</code>\" wrapper function.\n",
    "* If MetaTrader 5 is **not** installed, the dataframe is downloaded from my [GitHub repository](https://github.com/gsolaril/Trading_EPAT_Python/tree/master/Backtesting%20exercises/Symbols) for this task. Hence, this code will only work when applying certain symbols and time intervals whose spreadsheets are stored in it. Check the repo content for more info. Know however, that such \"``csv``\" files had been indeed downloaded from MetaTrader."
   ]
  },
  {
   "cell_type": "code",
   "execution_count": null,
   "metadata": {},
   "outputs": [],
   "source": [
    "class Backtest(Backtest):\n",
    "    def __init__(self, name = \"Strategy\"): \n",
    "        super().__init__(name = name)\n",
    "    def _load_data(self, symbols, frame, date, rows):\n",
    "        for symbol in symbols:\n",
    "            assert(isinstance(symbol, str))\n",
    "            if self.isMT:\n",
    "                enum = eval(f\"MetaTrader5.TIMEFRAME_{frame}\")\n",
    "                data = MetaTrader5.copy_rates_from(symbol, enum, date, rows)\n",
    "                data = pandas.DataFrame(data)\n",
    "            else:\n",
    "                date = date.strftime(format = \"%Y.%m.%d.%H.%M.%S\")\n",
    "                fname = f\"{symbol}_{frame}_{date}.csv\"\n",
    "                url = f\"{Backtest.git}/{Backtest.repo}/{fname}\"\n",
    "                data = pandas.read_csv(filepath_or_buffer = url)\n",
    "            self._load_symbol(data, symbol)"
   ]
  },
  {
   "cell_type": "markdown",
   "metadata": {},
   "source": [
    "After retrieving the instrument's dataframe, \"``_load_symbol``\" appends the block to \"``.Data``\" attribute as new \"``OHLCVS``\" columns with its \"``symbol``\" header. The whole structure's ``index`` column is replaced by the ``time``line of \"``datetime``\" values."
   ]
  },
  {
   "cell_type": "code",
   "execution_count": null,
   "metadata": {},
   "outputs": [],
   "source": [
    "class Backtest(Backtest):\n",
    "    def __init__(self, name = \"Strategy\"):\n",
    "        super().__init__(name = name)\n",
    "    def _load_symbol(self, data, symbol):\n",
    "        assert(isinstance(data, pandas.DataFrame))\n",
    "        data[\"time\"] = pandas.to_datetime(data[\"time\"], unit = \"s\")\n",
    "        data.set_index(keys = \"time\", drop = True, inplace = True)\n",
    "        for c, column in enumerate(\"OHLCVS\"):\n",
    "            self.Data[(symbol, column)] = data.iloc[:, c]\n",
    "        self.Data[(symbol, \"S\")].replace(to_replace = 0, inplace = True,\\\n",
    "                                 value = self.Specs[symbol].loc[\"spread\"])"
   ]
  },
  {
   "cell_type": "markdown",
   "metadata": {},
   "source": [
    "In parallel, the \"``_load_specs``\" method does the same job as the underscored \"``_load_data``\", but downloading a single-column spreadsheet that holds certain instrument constants which is stored in the \"``.Specs``\" attribute. Again, check the [GitHub repository](https://github.com/gsolaril/Trading_EPAT_Python/tree/master/Backtesting%20exercises) for more info."
   ]
  },
  {
   "cell_type": "code",
   "execution_count": null,
   "metadata": {},
   "outputs": [],
   "source": [
    "class Backtest(Backtest):\n",
    "    def __init__(self, name = \"Strategy\"): \n",
    "        super().__init__(name = name)\n",
    "    def _load_specs(self, symbols):\n",
    "        for symbol in symbols:\n",
    "            if self.isMT:\n",
    "                specs = MetaTrader5.symbol_info(symbol)._asdict()\n",
    "                self.Specs[symbol] = specs.values()\n",
    "                self.Specs.index = specs.keys()\n",
    "            else:\n",
    "                url = f\"{Backtest.git}/{Backtest.repo}/{symbol}-specs.csv\"\n",
    "                specs = pandas.read_csv(filepath_or_buffer = url)\n",
    "                self.Specs[symbol] = specs"
   ]
  },
  {
   "cell_type": "markdown",
   "metadata": {},
   "source": [
    "**<u>Finally</u>**, let's give a try to the class and its \"``load_data``\" function. Taking advantage of the \"``__repr__``\" dunder, we can ``print`` our instance and display its downloaded \"``.Data``\". Note the disposition of the columns and the time indexes."
   ]
  },
  {
   "cell_type": "code",
   "execution_count": null,
   "metadata": {
    "tags": []
   },
   "outputs": [],
   "source": [
    "myBacktest = Backtest(name = \"A certain strategy\")\n",
    "myBacktest.load_data(symbols = {\"EPU20\", \"ENQU20\"})\n",
    "myBacktest.Data"
   ]
  },
  {
   "cell_type": "code",
   "execution_count": null,
   "metadata": {},
   "outputs": [],
   "source": [
    "myBacktest.Data"
   ]
  },
  {
   "cell_type": "markdown",
   "metadata": {},
   "source": [
    "<hr>\n",
    "\n",
    "#### Strategy formulation"
   ]
  },
  {
   "cell_type": "code",
   "execution_count": null,
   "metadata": {},
   "outputs": [],
   "source": [
    "class Backtest(Backtest):\n",
    "    def __init__(self, name = \"Strategy\"): \n",
    "        super().__init__(name = name)\n",
    "    def load_indicator(self, headers, f_I):\n",
    "        if isinstance(headers, str): headers = [headers]\n",
    "        if isinstance(f_I, type(lambda: 1)): f_I = [f_I]\n",
    "        assert(isinstance(headers, list))\n",
    "        assert(isinstance(f_I, list))\n",
    "        assert(len(headers) == len(f_I))\n",
    "        for n, f in enumerate(f_I):\n",
    "            self.Data[(\"Indicators\", headers[n])] = \\\n",
    "            self.Data.apply(axis = \"columns\", func = f)"
   ]
  },
  {
   "cell_type": "code",
   "execution_count": null,
   "metadata": {},
   "outputs": [],
   "source": [
    "class Backtest(Backtest):\n",
    "    def __init__(self, name = \"Strategy\"): \n",
    "        super().__init__(name = name)\n",
    "    def load_strategy(self, f_B, f_S, f_L, f_P):\n",
    "        return"
   ]
  }
 ],
 "metadata": {
  "kernelspec": {
   "display_name": "Python 3",
   "language": "python",
   "name": "python3"
  },
  "language_info": {
   "codemirror_mode": {
    "name": "ipython",
    "version": 3
   },
   "file_extension": ".py",
   "mimetype": "text/x-python",
   "name": "python",
   "nbconvert_exporter": "python",
   "pygments_lexer": "ipython3",
   "version": "3.7.7"
  }
 },
 "nbformat": 4,
 "nbformat_minor": 2
}
