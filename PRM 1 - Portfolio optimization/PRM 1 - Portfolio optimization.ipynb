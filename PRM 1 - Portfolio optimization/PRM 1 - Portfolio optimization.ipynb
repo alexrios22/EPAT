{
 "cells": [
  {
   "cell_type": "markdown",
   "metadata": {
    "colab_type": "text",
    "id": "Rw_GDBqMmZes"
   },
   "source": [
    "{[Click here to read this notebook in Google Colab](https://colab.research.google.com/drive/1nmcirlIlf-aZRkt4nqhRrrwCcCL6u0bf)}\n",
    "\n",
    "<head><link rel = \"stylesheet\" href = \"https://drive.google.com/uc?id=1zYOH-_Mb9jOjRbQmghdhsmZ2g6xAwakk\"></head>\n",
    "\n",
    "<table class = \"header\"><tr>\n",
    "    <th align = \"left\">EPAT Batch 45 | PRM 1, 2020\\04\\19</th>\n",
    "    <th align = \"right\">Written by: Gaston Solari Loudet</th>\n",
    "</tr></table>\n",
    "\n",
    "### Portfolio Optimization\n",
    "\n",
    "The objective of this notebook is to try to simulate the dynamics in a multi-strategy trading account by means of a gambling analogy.\n",
    "\n",
    "The range of possible results in a casino game grows exponentially both with:\n",
    "* The amount of wagers \"$N_{w}$\" in which the gambler <u>sequentially</u> takes part. (betting rounds)\n",
    "* The amount of games \"$N_{g}$\" in which the gambler is <u>simultaneously</u> betting.\n",
    "\n",
    "So does for the trader that trades a <u>sequence</u> of successive trades in <u>simultaneous</u> trading methodologies. We will use a \"``list``\" for specifying the nature of the different games \"$g$\" that are being played at the same time. Each element will be a \"``pandas.DataFrame``\" with \"$N_{r}$\" rows, one for each possible result \"$r$\" in a wager. (<u>examples</u>: win, lose, partial win, partial lose, break-even, etc.)\n",
    "\n",
    "Two columns, \"``Rates``\" and \"``Probs``\", will describe the profit/loss rate for each result, and its probability, respectively. Needless to say that for each possible \"``Rate``\" in any game, there must be one and only one \"``Prob``\" value between 0 and 1. And they must all add up to zero."
   ]
  },
  {
   "cell_type": "code",
   "execution_count": 72,
   "metadata": {
    "colab": {},
    "colab_type": "code",
    "id": "3jMCbTQSApG2"
   },
   "outputs": [],
   "source": [
    "import sympy, numpy, pandas, matplotlib.pyplot, IPython\n",
    "matplotlib.pyplot.style.use(\"https://drive.google.com/uc?id=1TawPXELPzNlySaOx3HT67A-wHwRxuWjQ&\")\n",
    "######################################################################################################################\n",
    "### Each game data is represented as one row in the input dict.                                                    ###\n",
    "### Dataframe rows correspond to possible outcome events, and columns correspond to stats/variables (Rates/Probs). ###\n",
    "######################################################################################################################\n",
    "Games = [ pandas.DataFrame({\"Rates\": [2.5, -1.0], \"Probs\": [0.5, 0.5]}),\n",
    "          pandas.DataFrame({\"Rates\": [1.5, -1.0], \"Probs\": [0.5, 0.5]}) ]"
   ]
  },
  {
   "cell_type": "markdown",
   "metadata": {
    "colab_type": "text",
    "id": "p4nY9toMmZGD"
   },
   "source": [
    "### Main class\n",
    "\n",
    "We will use a \"``GameSet``\" object that is intended to hold all the relevant data about the gambling games. Besides from the \"``list``\" of \"``.Games``\", we will create an array of variables representing possible fractions of our wealth to be bet; one variable \"$f_{(g)}$\" for each game \"$g$\". These are created with the \"<code>sympy</code>\" Python library that allows algebraic manipulation of mathematical \"``symbol``\" objects. Equations can then be expressed and worked upon in a generic way, before settling numerical values.\n",
    "\n",
    "Our class holds such in a \"``.f_vars``\" array, which is going to be created after verifying that the input data (game list) has been adequately expressed (hence the amount of \"``assert``\" lines).\n",
    "\n",
    "> <u>**Note**</u>: Most of these elements are not wholly necessary for the solution of the exercise. They are just for the sake of coding practice. I also wanted to try a class programming methodology in which not all the code with the methods and attributes were programmed in a single Jupyter cell, but could be partitioned and continuously updated with new features, taking advantage of the \"<code>super</code>\" keyword in Python."
   ]
  },
  {
   "cell_type": "code",
   "execution_count": 73,
   "metadata": {
    "colab": {},
    "colab_type": "code",
    "id": "XmjWAbW7dB8Q"
   },
   "outputs": [],
   "source": [
    "class GameSet(): # Basic class structure.\n",
    "\n",
    "    # Instance constructor.\n",
    "    def __init__(self, Games):\n",
    "        self.f_vars = []\n",
    "        self.Games = []\n",
    "        # Preprocess data.\n",
    "        self = self + Games\n",
    "\n",
    "    # What to show when printing the instance.\n",
    "    def __repr__(self):\n",
    "        for g, Game in enumerate(self.Games):\n",
    "            print(f\"\\nGame {g + 1}\")\n",
    "            IPython.display.display(Game)\n",
    "        return \"\"\n",
    "\n",
    "    # Allow appending of new games.\n",
    "    def __add__(self, Games):\n",
    "        # We only need the list of dataframes.\n",
    "        if isinstance(Games, GameSet): Games = self.Games\n",
    "        # Error check\n",
    "        assert(isinstance(Games, list))\n",
    "        assert(len(Games) > 0)\n",
    "        for g, Game in enumerate(Games):\n",
    "            assert(isinstance(Game, pandas.DataFrame))\n",
    "            assert(\"Rates\" in Game.columns)\n",
    "            assert(\"Probs\" in Game.columns)\n",
    "            # Check that data is numeric.\n",
    "            assert(Game[\"Rates\"].dtype == \"float64\")\n",
    "            assert(Game[\"Probs\"].dtype == \"float64\")\n",
    "            # 1 probability value per possible outcome.\n",
    "            assert(Game[\"Rates\"].shape == Game[\"Probs\"].shape)\n",
    "            # Build symbolic variables for position sizes.\n",
    "            self.f_vars.append(sympy.symbols(\"f_%d\" % (g + 1)))\n",
    "            # Normalize probabilities just in case.\n",
    "            Game[\"Probs\"] /= sum(Game[\"Probs\"])\n",
    "        # Keep processed game data.\n",
    "        return self.Games.extend(Games)"
   ]
  },
  {
   "cell_type": "markdown",
   "metadata": {
    "colab_type": "text",
    "id": "gMNQtBIbmX7T"
   },
   "source": [
    "This first instance of the class shows the DataFrame structure when printed, by means of the \"``__repr__``\" method."
   ]
  },
  {
   "cell_type": "code",
   "execution_count": 74,
   "metadata": {
    "colab": {
     "base_uri": "https://localhost:8080/",
     "height": 212
    },
    "colab_type": "code",
    "id": "jvUToGCUhvB2",
    "outputId": "4ca03e20-1af1-4127-d6a5-ae742e73316e",
    "tags": []
   },
   "outputs": [
    {
     "output_type": "stream",
     "name": "stdout",
     "text": "GameSet instance dataframes:\n\n\nGame 1\n"
    },
    {
     "output_type": "display_data",
     "data": {
      "text/plain": "   Rates  Probs\n0    2.5    0.5\n1   -1.0    0.5",
      "text/html": "<div>\n<style scoped>\n    .dataframe tbody tr th:only-of-type {\n        vertical-align: middle;\n    }\n\n    .dataframe tbody tr th {\n        vertical-align: top;\n    }\n\n    .dataframe thead th {\n        text-align: right;\n    }\n</style>\n<table border=\"1\" class=\"dataframe\">\n  <thead>\n    <tr style=\"text-align: right;\">\n      <th></th>\n      <th>Rates</th>\n      <th>Probs</th>\n    </tr>\n  </thead>\n  <tbody>\n    <tr>\n      <th>0</th>\n      <td>2.5</td>\n      <td>0.5</td>\n    </tr>\n    <tr>\n      <th>1</th>\n      <td>-1.0</td>\n      <td>0.5</td>\n    </tr>\n  </tbody>\n</table>\n</div>"
     },
     "metadata": {}
    },
    {
     "output_type": "stream",
     "name": "stdout",
     "text": "\nGame 2\n"
    },
    {
     "output_type": "display_data",
     "data": {
      "text/plain": "   Rates  Probs\n0    1.5    0.5\n1   -1.0    0.5",
      "text/html": "<div>\n<style scoped>\n    .dataframe tbody tr th:only-of-type {\n        vertical-align: middle;\n    }\n\n    .dataframe tbody tr th {\n        vertical-align: top;\n    }\n\n    .dataframe thead th {\n        text-align: right;\n    }\n</style>\n<table border=\"1\" class=\"dataframe\">\n  <thead>\n    <tr style=\"text-align: right;\">\n      <th></th>\n      <th>Rates</th>\n      <th>Probs</th>\n    </tr>\n  </thead>\n  <tbody>\n    <tr>\n      <th>0</th>\n      <td>1.5</td>\n      <td>0.5</td>\n    </tr>\n    <tr>\n      <th>1</th>\n      <td>-1.0</td>\n      <td>0.5</td>\n    </tr>\n  </tbody>\n</table>\n</div>"
     },
     "metadata": {}
    },
    {
     "output_type": "stream",
     "name": "stdout",
     "text": "\n"
    }
   ],
   "source": [
    "# Create test instance\n",
    "G = GameSet(Games)   ;   print(\"GameSet instance dataframes:\\n\")   ;   print(G)"
   ]
  },
  {
   "cell_type": "markdown",
   "metadata": {
    "colab_type": "text",
    "id": "LU35zDJnb1Nl"
   },
   "source": [
    "#### Symbolic profit rates\n",
    "\n",
    "When playing a single game \"$g$\" not simultaneously with any other one, our wealth is multiplied by \"$1 + X_{(g;\\;r)}$\" after each wager. \"$X_{(g;\\;r)}$\" is the <b>random</b> profit/loss rate that represents the result \"$r$\" that came to be. Let also \"$n_{(g;\\;r)} $\" be the amount of wagers that each result \"$r$\" took place. The compound profit \"$P$\" is dictated by:\n",
    "\n",
    "$$ P = \\Pi_{r = 1}^{N_{r}} (1 + X_{(g;\\;r)})^{n_{(g;\\;r)}} \\tag{eq.1} $$\n",
    "\n",
    "We define the <u>geometric mean profit</u> as the $N_{w}$-th root of the net profit after playing \"$N_{w}$\" wagers. as \"$N_{w}$\" approaches infinity, the exponents of the growth factors \"$1 + X_{(g;\\;r)}$\" approach probability values \"$p_{(g;\\;r)}$\":\n",
    "\n",
    "$$ \\bar{P} = \\Pi_{r = 1}^{N_{r}} (1 + X_{(g;\\;r)})^{p_{(g;\\;r)}}$$\n",
    "\n",
    "When an amount of \"$N_{g}$\" games are being played in parallel, the growth rates do not longer come the consequence of a single game \"$g$\" but the sum of all of them. The possible results grow exponentially because they are now the different combinations of the possible outcomes for each single game. Therefore, the probability values in the exponents multiply themselves too:\n",
    "\n",
    "$$ \\bar{P} = \\Pi_{r = 1}^{N_{r}} (1 + \\Sigma_{g = 1}^{N_{g}} X_{(g;\\;r)})^{\\Pi_{g = 1}^{N_{g}} p_{(g;\\;r)}} $$\n",
    "\n",
    "It's useful to contemplate entities \"$X_{(g;\\;r)}$\" and \"$p_{(g;\\;r)}$\" as a sort of multidimensional matrix/grid in which:\n",
    "* Axes represent games \"g\". Each game is a sort of dimension itself.\n",
    "* Elements represent \"points in those dimensions/axes\", which in turn represent combined rates and probabilities.\n",
    "In a two dimensional case:\n",
    "\n",
    "<center><img width = \"75%\" src = \"https://drive.google.com/uc?id=1UCG3vP5Vs_saRqwJbjJH1vDrgEzhtFzW\"></img></center>\n",
    "\n",
    "A similar effect is achieved with the \"``numpy.meshgrid``\" function in the next \"``.find_rates``\". Attributes called \"``.Rates``\" and \"``.Probs``\" will store these grids of growth rates and probability values. Now; the growth \"``.Rates``\" (\"$X_{(g;\\;r)}$\") depend on:\n",
    "* The <u>payout ratio</u> \"$R_{(g;\\;r)}$\" (sometimes called \"edge\") of the possible outcome/result \"$r$\" at game \"$g$\".\n",
    "<br>In trading, this can be interpreted as the stop-profit/stop-loss ratio.\n",
    "* The <u>bet size</u> \"$f_{(g)}$\": precisely, the fractional amount of wealth that was trusted in game \"$g$\".\n",
    "<br>These are the \"``symbol``-ic\" variables in \"``.f_vars``\" that we need to mathematically manipulate.\n",
    "\n",
    "So: \"$X_{(g;\\;r)} = R_{(g;\\;r)} \\cdot f_{g}$\". Therefore, the geometric mean profit is finally defined as:\n",
    "\n",
    "$$ \\tag{eq.2} \\bar{P} = \\Pi_{r = 1}^{N_{r}} (1 + \\Sigma_{g = 1}^{N_{g}} R_{(g;\\;r)} \\cdot f_{(g)})^{\\Pi_{g = 1}^{N_{g}} p_{(g;\\;r)}} $$\n",
    "\n",
    "Note that to be able to compute non-vectorial equation 2, we make use of the \"``numpy.dot``\" function for the summation term and the application of probability exponents. Thus meshgrid attributes \"``.Rates``\" and \"``.Probs``\" need their rows to be horizontally stacked with \"``numpy.reshape``\"."
   ]
  },
  {
   "cell_type": "code",
   "execution_count": 75,
   "metadata": {
    "colab": {},
    "colab_type": "code",
    "id": "oe7kmGNfeXiK"
   },
   "outputs": [],
   "source": [
    "class GameSet(GameSet): # Update class structure.\n",
    "\n",
    "    # Instance constructor inheritance.\n",
    "    def __init__(self, Games):\n",
    "        super().__init__(Games)\n",
    "        self.find_rates()\n",
    "\n",
    "    # Generate multivariate mesh of result combinations.\n",
    "    def find_rates(self):\n",
    "        Rates = [numpy.array(Game[\"Rates\"]) for Game in self.Games]\n",
    "        Rates = numpy.array(numpy.meshgrid(*Rates)).T\n",
    "        Rates = numpy.reshape(Rates, (-1, len(Games)))\n",
    "        self.Rates = numpy.dot(Rates, self.f_vars)\n",
    "        # Generate multivariate mesh of probabilities.\n",
    "        Probs = [numpy.array(game[\"Probs\"]) for game in Games]\n",
    "        Probs = numpy.array(numpy.meshgrid(*Probs)).T\n",
    "        Probs = numpy.reshape(Probs, (-1, len(Games)))\n",
    "        # Each rate prob is product of results from individual games.\n",
    "        self.Probs = numpy.prod(Probs, axis = 1, keepdims = False)\n",
    "\n",
    "    # Calculate numeric results with specified bet sizes.\n",
    "    def calc_rates(self, f_vals):\n",
    "        # Substitute symbolic variables with input values.\n",
    "        subs = numpy.array([self.f_vars, f_vals]).T\n",
    "        # Calculate array of values of the form \"(1 + X)\".\n",
    "        Factors = [1 + Rate.subs(subs) for Rate in self.Rates]\n",
    "        # Return as numpy array.\n",
    "        return numpy.array(Factors).astype(\"float\")"
   ]
  },
  {
   "cell_type": "markdown",
   "metadata": {
    "colab_type": "text",
    "id": "6ozvt_W8D6lH"
   },
   "source": [
    "The method \"``calc_rates``\" method's output is the numerical value of \"$1 + X_{(g;\\;r)}$\" array elements when a certain value set for \"$f_{(g)}$\" values is chosen/tested. These \"factors\" may be further processed as equation 2 shows, to get a geometric mean profit value."
   ]
  },
  {
   "cell_type": "code",
   "execution_count": 76,
   "metadata": {
    "colab": {
     "base_uri": "https://localhost:8080/",
     "height": 124
    },
    "colab_type": "code",
    "id": "JgndEVjlk8Ev",
    "outputId": "d7184621-8c9b-4af5-a83f-34c8aa94adb1",
    "tags": []
   },
   "outputs": [
    {
     "output_type": "stream",
     "name": "stdout",
     "text": "List of possible outcomes/results:\n\nCase 1  |  Probability: 0.25  |  Growth rate: 2.5*f_1 + 1.5*f_2\nCase 2  |  Probability: 0.25  |  Growth rate: 2.5*f_1 - 1.0*f_2\nCase 3  |  Probability: 0.25  |  Growth rate: -1.0*f_1 + 1.5*f_2\nCase 4  |  Probability: 0.25  |  Growth rate: -1.0*f_1 - 1.0*f_2\n"
    }
   ],
   "source": [
    "# Renew instance with updated class.\n",
    "G = GameSet(Games)\n",
    "\n",
    "print(\"List of possible outcomes/results:\\n\")\n",
    "for case in range(G.Rates.size): print(f\"Case {case + 1}  |  Probability: {G.Probs[case]}  |  Growth rate: {G.Rates[case]}\")"
   ]
  },
  {
   "cell_type": "markdown",
   "metadata": {
    "colab_type": "text",
    "id": "d2gxl5gK5JPd"
   },
   "source": [
    "#### Profit logarithm\n",
    "\n",
    "As we are talking about compound profit \"$P$\", equation 2's nature is purely multiplicative. However, it is easier to manipulate linearly combined variables. So we may apply logarithm to both sides of said equation to seize its linear properties, such as the lowering of probability exponents:\n",
    "\n",
    "$$ ln\\;\\bar{P} = \\Sigma_{r = 1}^{N_{r}} \\; (\\Pi_{g = 1}^{N_{g}} p_{(g;\\;r)}) \\; ln (1 + \\Sigma_{g = 1}^{N_{g}} R_{(g;\\;r)} \\cdot f_{(g)}) \\tag{eq.3a}$$\n",
    "\n",
    "One of its main advantages is that we may be able to find numerous statistical properties of newfound random variable \"$ln\\;P$\" and later extrapolate to the original compound profit $P$. For example, its standard deviation \"$\\sigma$\".\n",
    "\n",
    "We know that the mean profit logarithm is the expected value of the net profit's logarithm: \"$ln\\;\\bar{P} = E(ln\\;P)$\". On the other hand, its variance is defined as: \"$V(ln\\;P) = E(ln^{2}P) - E(ln\\;P)^{2} = E(ln^{2}P) - (ln\\;\\bar{P})^{2}$\". Where:\n",
    "$$ E(ln^{2}P) = \\Sigma_{r = 1}^{N_{r}} \\; (\\Pi_{g = 1}^{N_{g}} p_{(g;\\;r)}) \\; ln^{2} (1 + \\Sigma_{g = 1}^{N_{g}} R_{(g;\\;r)} \\cdot f_{(g)}) \\tag{eq.3b}$$\n",
    "\n",
    "This value can easily be calculated taking advantage of methods in \"``numpy``\" such as \"``numpy.dot``\". Standard deviation can be later calculated as the square root of variance: \"$\\sigma = \\sqrt{V(ln\\;P)}$\""
   ]
  },
  {
   "cell_type": "code",
   "execution_count": 77,
   "metadata": {
    "colab": {},
    "colab_type": "code",
    "id": "1W3Y0Z1O5Gjg"
   },
   "outputs": [],
   "source": [
    "class GameSet(GameSet):\n",
    "\n",
    "    # Instance constructor inheritance and replacement.\n",
    "    def __init__(self, Games):\n",
    "        super().__init__(Games)\n",
    "\n",
    "    # Calculate expected value and standard deviation...\n",
    "    # ...of geometric profit rate, given bet sizes.\n",
    "    def calc_stats(self, f_vals):\n",
    "        # Logarithm of multiplicative growth factors.\n",
    "        logFactors = numpy.log(self.calc_rates(f_vals))\n",
    "        E_log = (self.Probs*(logFactors)).sum() # Equation 3a\n",
    "        E_log_2 = (self.Probs*(logFactors**2)).sum() # Equation 3b\n",
    "        V_log = E_log_2 - E_log**2 # Variance definition.\n",
    "        # Mean and standard deviation of profit logarithm.\n",
    "        mu, sigma = E_log, numpy.sqrt(V_log)\n",
    "        # Back to compound profit:\n",
    "        return numpy.exp(mu), numpy.exp(sigma)"
   ]
  },
  {
   "cell_type": "markdown",
   "metadata": {
    "colab_type": "text",
    "id": "Sw1TekUfBYGK"
   },
   "source": [
    "Let's give a try of these stats for some arbitrary test values..."
   ]
  },
  {
   "cell_type": "code",
   "execution_count": 78,
   "metadata": {
    "colab": {
     "base_uri": "https://localhost:8080/",
     "height": 70
    },
    "colab_type": "code",
    "id": "Luvp7TM0Bb4n",
    "outputId": "2b5ed9e8-02db-42f0-f587-0bc29f4e79f9",
    "tags": []
   },
   "outputs": [
    {
     "output_type": "stream",
     "name": "stdout",
     "text": "For a set with wealth fraction bets of [0.25, 0.15]\nGeometric mean profit: 1.1240\nStandard deviation:    1.5358\n"
    }
   ],
   "source": [
    "# Renew instance with updated class.\n",
    "G = GameSet(Games)\n",
    "\n",
    "# Test some combination of bet sizes:\n",
    "f_test = [0.25, 0.15]\n",
    "profit_mean, profit_stdv = G.calc_stats(f_test)\n",
    "print(f\"For a set with wealth fraction bets of {f_test}\")\n",
    "print(\"Geometric mean profit: %.4f\" % profit_mean)\n",
    "print(\"Standard deviation:    %.4f\" % profit_stdv)"
   ]
  },
  {
   "cell_type": "markdown",
   "metadata": {
    "colab_type": "text",
    "id": "uVbnECvbD59S"
   },
   "source": [
    "#### Jacobian matrix\n",
    "\n",
    "Our main target in this exercise is to find the value of \"$f_{(g)}$\" variables which maximize equation 2. For that, we would need to work with its derivative being equal to zero. An easy way to do this is to use the concept \"logarithmic derivative\": when a function like \"$\\bar{P}$\" increases  monotonically in a region of values, function \"$ln\\;\\bar{P}$\" does so too. Then, minima/maxima settle in the exact same points.\n",
    "\n",
    "When we differentiate equation 3a: \"$d\\;ln\\;\\bar{P} = (1/\\bar{P}) \\cdot d\\bar{P}$\". As we are forcing \"$d\\bar{P} = 0$\", then \"$d\\;ln\\;\\bar{P} = 0$\" as well.<br>On the other hand, each term in the summation is also differentiated:\n",
    "\n",
    "$$ \\frac{\\partial \\; ln\\;\\bar{P}}{\\partial f_{g}} = \\Sigma_{r = 1}^{N_{r}} \\; \\frac{\\Pi_{g = 1}^{N_{g}} \\; p_{(g;\\;r)}}{1 + \\Sigma_{g = 1}^{N_{g}} \\; R_{(g;\\;r)} \\cdot f_{(g)}} \\; R_{(g;\\;r)} = 0 \\tag{eq.4} $$\n",
    "\n",
    "Note that the factors \"$1 + X_{(r)}$\" in the denominators of equation 4 take the form of a linear combination of the bet wealth fractions \"$f_{(g)}$\":\n",
    "\n",
    "$$ 1 + X_{(r)}(f_{(1)}; \\;f_{(2)}; \\;\\cdots; \\;f_{(g)}; \\;\\cdots; \\;f_{(N_{g})}) = 1 + R_{(1;\\;r)} \\cdot f_{(1)} + R_{(2;\\;r)} \\cdot f_{(2)} + \\cdots + R_{(g;\\;r)} \\cdot f_{(g)} + \\cdots + R_{(N_{g};\\;r)} \\cdot f_{(N_{g})} $$\n",
    "\n",
    "When differentiating them by \"$f_{(g)}$\", every term is cancelled except for the one holding such variable: \"$ d(1 + X_{(r)})/df_{(g)} = R_{(g;\\;r)} $\". So:\n",
    "\n",
    "$$ X_{(r)}(0; \\;0; \\;\\cdots; \\;1; \\;\\cdots; \\;0) = 0 + 0 + \\cdots + R_{(g;\\;r)} \\cdot 1 + \\cdots + 0 = R_{(g;\\;r)} = d(1 + X_{(r)})/df_{(g)} $$\n",
    "\n",
    "As in \"``.Rates``\" we've already got the summations, it's OK to replace \"$f_{(g)}$\" values by zeros and one accordingly to find the derivative of the denominator for each case. This is the role of \"``.diff_rates``\" method: to assemble a Jacobian matrix that could be later dot-multiplied together with \"``.Probs/(1 + .Rates)``\" so as to get a system of equations."
   ]
  },
  {
   "cell_type": "code",
   "execution_count": 79,
   "metadata": {
    "colab": {},
    "colab_type": "code",
    "id": "6gV_y2u1eZu6"
   },
   "outputs": [],
   "source": [
    "class GameSet(GameSet):\n",
    "\n",
    "    # Instance constructor inheritance and replacement.\n",
    "    def __init__(self, Games):\n",
    "        super().__init__(Games)\n",
    "        self.diff_rates()\n",
    "\n",
    "    # Symbolic Jacobian matrix computation.\n",
    "    def diff_rates(self):\n",
    "        size = (len(self.f_vars), self.Rates.size)\n",
    "        self.dRates = numpy.random.random(size = size)\n",
    "        for i in range(len(self.f_vars)):\n",
    "            # (f1; ...; fi; ...; fn) = (0; ...; 1; ...; 0)\n",
    "            f_subs = numpy.identity(n = len(self.f_vars))[i, :]\n",
    "            for j in range(self.Rates.size):\n",
    "            # Notice that: \"R = R1 x f1 + ... + Ri x fi + ... + Rn x fn\"\n",
    "            # So: \"dR/dfi = Ri = R1 x 0 + ... + Ri x 1 + ... + Rn x 0\"\n",
    "                subs = numpy.array([self.f_vars, f_subs]).T\n",
    "                self.dRates[i, j] = self.Rates[j].subs(subs)"
   ]
  },
  {
   "cell_type": "markdown",
   "metadata": {
    "colab_type": "text",
    "id": "oQgHlMvoD5bg"
   },
   "source": [
    "The next code shows how \"``.diff_rates``\" returns a numerical matrix."
   ]
  },
  {
   "cell_type": "code",
   "execution_count": 80,
   "metadata": {
    "colab": {
     "base_uri": "https://localhost:8080/",
     "height": 124
    },
    "colab_type": "code",
    "id": "XRFSvuegsgMl",
    "outputId": "96441a1a-f93b-4a23-ea1b-d8c71ff1cc62",
    "tags": []
   },
   "outputs": [
    {
     "output_type": "stream",
     "name": "stdout",
     "text": "List of derivatives for each case:\n\nCase 1 | dR/df_1: 2.5 | dR/df_2: 1.5\nCase 2 | dR/df_1: 2.5 | dR/df_2: -1.0\nCase 3 | dR/df_1: -1.0 | dR/df_2: 1.5\nCase 4 | dR/df_1: -1.0 | dR/df_2: -1.0\n"
    }
   ],
   "source": [
    "# Renew instance with updated class.\n",
    "G = GameSet(Games)\n",
    "\n",
    "print(\"List of derivatives for each case:\\n\")\n",
    "for case in range(G.Rates.size): \n",
    "    string = f\"Case {case + 1}\"\n",
    "    for var in range(len(G.f_vars)):\n",
    "        f_var = str(G.f_vars[var])\n",
    "        dRate = str(G.dRates[var, case])\n",
    "        string += f\" | dR/d{f_var}: {dRate}\"\n",
    "    print(string)"
   ]
  },
  {
   "cell_type": "markdown",
   "metadata": {
    "colab_type": "text",
    "id": "n53MMBkcD40f"
   },
   "source": [
    "#### Optimization\n",
    "\n",
    "Note that there will be as many equation 4 instances as games we are playing. As the amount of \"$f_{(g)}$\" variables we are looking for in our solution, is exactly the same, we are in presence of a <u>compatible system of non-linear equations</u>. Now: one could force Python to \"``sympy.solve``\" with numerical methods. However, for a large number of games, this could take some real time. Therefore, we include the possibility of using a \"``Taylor``\" polynomial approach to the algorithm, knowing that: \"$1/(1 + x) \\approx \\Sigma_{t = 0}^{T}\\;(-x)^{t}$\".\n",
    "\n",
    "Despite massively speeding up the \"``sympy.solve``\" process, this method has two important disadvantages: its error margin and the multiplicity of solution sets. Care must be taken of the latter, eliminating not feasible solutions knowing that:\n",
    "* They must be real (no imaginary part).\n",
    "* Their sum must be smaller than 1: \"$\\Sigma_{g = 1}^{N_{g}} \\; f_{(g)} \\leq 1$\"."
   ]
  },
  {
   "cell_type": "code",
   "execution_count": 81,
   "metadata": {
    "colab": {},
    "colab_type": "code",
    "id": "xUZng5F2euen"
   },
   "outputs": [],
   "source": [
    "class GameSet(GameSet):\n",
    "\n",
    "    # Instance constructor inheritance and replacement.\n",
    "    def __init__(self, Games):\n",
    "        super().__init__(Games)\n",
    "    \n",
    "    # Find optimal set of bet sizes.\n",
    "    def optimize(self, taylor = None):\n",
    "        # Use polynomial approximation.\n",
    "        if isinstance(taylor, int):\n",
    "            assert(taylor > 0)\n",
    "            Taylor = 1\n",
    "            # \"1/(1 + x) ~ 1 - x + x^2 - ...\"\n",
    "            for deg in range(1, taylor + 1):\n",
    "                Taylor += (-self.Rates)**deg\n",
    "            dX_df = self.dRates*Taylor\n",
    "        else: # Evaluate real solution.\n",
    "            dX_df = self.dRates/(1 + self.Rates)\n",
    "        # Derivative log geometric mean of profit.\n",
    "        dG_df = numpy.dot(dX_df, self.Probs)\n",
    "        # Solve system of equations.\n",
    "        f_vals = sympy.solve(dG_df, self.f_vars)\n",
    "        # Process solution.\n",
    "        if isinstance(f_vals, dict):\n",
    "            # Single solution usually presented as dict.\n",
    "            f_vals = list(f_vals.values())\n",
    "        f_vals = numpy.array(f_vals)\n",
    "        # Multiple solutions usually are complex.\n",
    "        if f_vals.ndim > 1:\n",
    "            for i in range(len(f_vals)):\n",
    "                for j in range(len(f_vals[i])):\n",
    "                    # Delete complex solutions.\n",
    "                    f_vals[i][j] = sympy.re(f_vals[i][j])\n",
    "        # Keep the ones representing a percentage.\n",
    "        f_vals = f_vals[(0 <= f_vals)*(f_vals < 1)]\n",
    "        return f_vals.astype(\"float\")"
   ]
  },
  {
   "cell_type": "markdown",
   "metadata": {
    "colab_type": "text",
    "id": "D-S3Ud3eD4RY"
   },
   "source": [
    "The next code gets the optimal values of \"$f_{(g)}$\" with \"``.optimize``\". Geometric mean profit is calculated as shown."
   ]
  },
  {
   "cell_type": "code",
   "execution_count": 82,
   "metadata": {
    "colab": {
     "base_uri": "https://localhost:8080/",
     "height": 52
    },
    "colab_type": "code",
    "id": "P_w-hnLswgPR",
    "outputId": "8ffb92c3-7cb9-4e83-e8be-d0c60e03525f",
    "tags": []
   },
   "outputs": [
    {
     "output_type": "stream",
     "name": "stdout",
     "text": "Optimal fraction configuration: [0.29292863 0.14242735]\nGeometric mean compound profit: 1.126160682927342\n"
    }
   ],
   "source": [
    "# Renew instance with updated class.\n",
    "G = GameSet(Games)\n",
    "\n",
    "f_vals = G.optimize()\n",
    "print(f\"Optimal fraction configuration: {f_vals}\")\n",
    "p_max = (G.calc_rates(f_vals = f_vals)**G.Probs).prod()\n",
    "print(f\"Geometric mean compound profit: {p_max}\")"
   ]
  },
  {
   "cell_type": "markdown",
   "metadata": {
    "colab_type": "text",
    "id": "85scsHjwkYvF"
   },
   "source": [
    "#### Meshplot\n",
    "It's useful to have a function to visualize the variation of geometric mean profit \"$\\bar{G}$\" with different bet sizes \"$f_{(g)}$\". This is only possible when the amount of games allows it: \"$N_{g} \\leq 2$\". A contour plot can be created for the bidimensional case. We may also visually locate the calculated optimal point in this plot. Note that due to the constraints imposed over the bet sizes, there are certain regions in the \"``meshgrid``\" which lose sense (for example, the ones which represent wealths larger than 100%, what we actually have).\n",
    "\n",
    "In those cases in which we want to focus on a smaller region of the plane that's nearer to the origin, we can use the \"``limit``\" input."
   ]
  },
  {
   "cell_type": "code",
   "execution_count": 83,
   "metadata": {
    "colab": {},
    "colab_type": "code",
    "id": "le0VS5HvsYCZ"
   },
   "outputs": [],
   "source": [
    "class GameSet(GameSet):\n",
    "\n",
    "    # Instance constructor inheritance and replacement.\n",
    "    def __init__(self, Games):\n",
    "        super().__init__(Games)\n",
    "\n",
    "    # Build mesh matrix for different bet sizes.\n",
    "    def meshgrid(self, points = 5, limit = [1, 1]):\n",
    "        # 2D array plotting would only work for 2 games.\n",
    "        assert(len(self.f_vars) == 2)\n",
    "        # Makes no sense to see what happens beyond 100% wealth.\n",
    "        assert((limit[0] <= 1) and (limit[1] <= 1))\n",
    "        # Generate axis with points.\n",
    "        range_X = numpy.linspace(0, limit[0], points + 1)\n",
    "        range_Y = numpy.linspace(0, limit[1], points + 1)\n",
    "        # \"X\" for \"f_1\" and \"Y\" for \"f_2\"\n",
    "        X, Y = numpy.meshgrid(range_X, range_Y)\n",
    "        # \"Zm\" for mean, \"Zs\" for standard dev.\n",
    "        Zm = numpy.ones_like(X)*numpy.nan\n",
    "        Zs = numpy.ones_like(X)*numpy.nan\n",
    "        # \"x\" and \"y\" are each point's indexes.\n",
    "        for x in range(points):\n",
    "            # As \"f_1 + f_2 <= 1\"; \"x + y <= points\"\n",
    "            for y in range(points):\n",
    "                f_1, f_2 = X[x, y], Y[x, y]\n",
    "                # Omit the points beyond 100% wealth.\n",
    "                if (f_1 + f_2 >= 1): pass\n",
    "                else:\n",
    "                    Zm[x, y], Zs[x, y] = self.calc_stats([f_1, f_2])\n",
    "        return X, Y, numpy.matrix(Zm, dtype = \"float\"), \\\n",
    "                     numpy.matrix(Zs, dtype = \"float\"),"
   ]
  },
  {
   "cell_type": "markdown",
   "metadata": {
    "colab_type": "text",
    "id": "KMPcu5oezgC0"
   },
   "source": [
    "The more \"``points``\" are used for the \"``meshgrid``\", the more accurate is the plot. Also \"same profit\" curves become clearer."
   ]
  },
  {
   "cell_type": "code",
   "execution_count": 84,
   "metadata": {
    "colab": {
     "base_uri": "https://localhost:8080/",
     "height": 453
    },
    "colab_type": "code",
    "id": "I44T1jYkkYNM",
    "outputId": "6b30d5e1-cce4-4597-cba0-f9089b9eb5c7",
    "tags": []
   },
   "outputs": [
    {
     "output_type": "stream",
     "name": "stderr",
     "text": "UsageError: Line magic function `%` not found.\n"
    }
   ],
   "source": [
    "% # Delete \"%\" to run this cell. It will work only if the system is 2D: 2 games.\n",
    "G = GameSet(Games)    ;    X, Y, Zm, Zs = G.meshgrid(points = 50, limit = [1, 1])\n",
    "##################################################################################\n",
    "### Following code is just for plot configuration. Not very important to read. ###\n",
    "##################################################################################\n",
    "def figure_1(zmax):\n",
    "    Figure = matplotlib.pyplot.figure(figsize = (18, 4))\n",
    "    Figure.add_axes([0.1, 0.1, 0.6, 0.8])\n",
    "    Figure.axes[0].set_xlabel(fontweight = \"bold\", xlabel = \"Game 1\")\n",
    "    Figure.axes[0].set_ylabel(fontweight = \"bold\", ylabel = \"Game 2\")\n",
    "    Figure.axes[0].set_xlim(xmin = 0, xmax = 1)  ;  Figure.axes[0].set_xticks(numpy.arange(0, 1, 0.05))\n",
    "    Figure.axes[0].set_ylim(ymin = 0, ymax = 1)  ;  Figure.axes[0].set_yticks(numpy.arange(0, 1, 0.05))\n",
    "    # Colorbar for threshold identification.\n",
    "    Figure.add_axes([0.7, 0.1, 0.1, 0.8])\n",
    "    norm = matplotlib.colors.Normalize(vmin = 0, vmax = zmax*1.1)\n",
    "    colors = matplotlib.cm.ScalarMappable(norm = norm)\n",
    "    colorbar = matplotlib.pyplot.colorbar(mappable = colors, cax = Figure.axes[1])\n",
    "    colorbar.set_ticks(numpy.arange(0, zmax*1.1, zmax/11))\n",
    "    Figure.axes[1].set_xlabel(fontsize = 12, xlabel = \"Geometric\\nmean profit\")\n",
    "    Figure.axes[1].xaxis.set_label_coords(0.5, -0.025)\n",
    "    matplotlib.pyplot.pause(1e-13)\n",
    "    return Figure\n",
    "######################################################################## Let's try.\n",
    "Figure_0a = figure_1(zmax = round(numpy.nanmax(Zm), 1))\n",
    "Figure_0a.axes[0].contour(X, Y, Zm, levels = 2*X.shape[0])\n",
    "# Localize optimal values formerly calculated.\n",
    "Figure_0a.axes[0].plot(*f_vals, marker = \"X\", markeredgecolor = \"white\")\n",
    "Figure_0a.axes[0].text(*(f_vals + 0.01), s = \"Optimal profit = %.4f\" % p_max,\n",
    "                        fontweight = \"bold\", fontsize = 12, color = \"white\");"
   ]
  },
  {
   "cell_type": "markdown",
   "metadata": {
    "colab_type": "text",
    "id": "haRPfAUrDfpO"
   },
   "source": [
    "<center><img width = \"100%\" src = \"https://drive.google.com/uc?id=1ZNaRA6sQiPZ49dLBs45_7ABw1uQMnqSx\"></img></center>\n",
    "\n",
    "Let's try and plot the same mesh but for the logarithmic standard deviations \"$\\sigma$\". Notice that its direction of growth is opposite to the geometric mean profit."
   ]
  },
  {
   "cell_type": "code",
   "execution_count": 91,
   "metadata": {
    "colab": {
     "base_uri": "https://localhost:8080/",
     "height": 524
    },
    "colab_type": "code",
    "id": "_MdbNDvGEdGV",
    "outputId": "905431ad-291c-4fe6-d85d-fefbbde972f2",
    "tags": []
   },
   "outputs": [
    {
     "output_type": "stream",
     "name": "stderr",
     "text": "UsageError: Line magic function `%` not found.\n"
    }
   ],
   "source": [
    "% # Delete this line to run this cell.\n",
    "Figure_0b = figure_1(zmax = 1.1);\n",
    "Figure_0b.axes[0].contour(X, Y, numpy.log(numpy.multiply(Zs, Zs < 10)), levels = 2*X.shape[0])\n",
    "# Localize optimal values formerly calculated.\n",
    "Figure_0b.axes[1].set_xlabel(fontsize = 12, xlabel = \"Standard dev.\\n of 'ln(G)'\")\n",
    "Figure_0b.axes[0].plot(*f_vals, marker = \"X\", markeredgecolor = \"white\")\n",
    "Figure_0b.axes[0].text(*(f_vals + 0.01), s = \"Optimal profit = %.4f\" % p_max,\n",
    "                        fontweight = \"bold\", fontsize = 12, color = \"white\");"
   ]
  },
  {
   "cell_type": "markdown",
   "metadata": {
    "colab_type": "text",
    "id": "BWhULTqoD3kH"
   },
   "source": [
    "<center><img width = \"100%\" src = \"https://drive.google.com/uc?id=1ANJvV7fYveQgUE_OyZT8Ms6pGDOv8afn\"></img></center>\n",
    "\n",
    "#### Risk of ruin\n",
    "\n",
    "Optimizing the investment distribution does not guarantee the positivity of the results. Though sometimes theoretically unlikely, continuous losses may occur and drain our accounts. But - **which are the chances?**\n",
    "\n",
    "Up to know we have talked about the net profit in statistical terms, taking into account only the sample space of results in a non-sequential way. But when the \"time\" variable becomes considered, the order in which \"$1 + X_{(g;\\;r)}$\" factors appear, matters. Then, we shall develop a \"``.ruin_cases``\" method in which, for a certain sequence of \"``wager``\" rounds, the \"``product``\" between the sequence of \"``factors``\" of the form \"$1 + X_{(g;\\;r)}$\" is calculated. If the product goes lower than a certain \"``threshold``\" , that result plus also all of the future possible scenarios that are born from it, imply a \"ruin\" condition.\n",
    "\n",
    "The following image gives an example of how may the algorithm work. It uses some principles of dynamic programming:\n",
    "\n",
    "<center><img width = \"50%\" src = \"https://drive.google.com/uc?id=1B9YyB-5xDU9Tc7Z62tSpq2PDQH4z_MiD\" width = \"600\"></center>"
   ]
  },
  {
   "cell_type": "code",
   "execution_count": 86,
   "metadata": {
    "colab": {},
    "colab_type": "code",
    "id": "-J-v4EfPe9h4"
   },
   "outputs": [],
   "source": [
    "class GameSet(GameSet):\n",
    "\n",
    "    # Instance constructor inheritance and replacement.\n",
    "    def __init__(self, Games):\n",
    "        super().__init__(Games)\n",
    "\n",
    "    # Finds amount of \"ruining\" cases in a possibility tree by recursion.\n",
    "    @staticmethod\n",
    "    def ruin_cases(factors, wager, threshold = 1, counter = 0, product = 1):\n",
    "        # \"threshold\" represents the minimum wealth needed to continue playing.\n",
    "        # If ongoing product is below threshold, don't continue on that branch.\n",
    "        if (product < threshold):\n",
    "            # Just add to the counter all derived results at wagers ahead.\n",
    "            return counter + len(factors)**wager\n",
    "        # If no more wagers ahead, I'm at the end of a branch. Go back.\n",
    "        if (wager == 0): return counter\n",
    "        # Select next branch.\n",
    "        for factor in factors:\n",
    "            counter = GameSet.ruin_cases(factors = factors, wager = wager - 1,\n",
    "                threshold = threshold, counter = counter, product = product*factor)\n",
    "        # If no more branches besides, I'm at the end of a wager. Go back.\n",
    "        return counter\n",
    "            \n",
    "    # Finds risk-of-ruin probability curve after a certain number of wagers.\n",
    "    @staticmethod\n",
    "    def ruin_risk(factors, wagers, threshold = 1):  \n",
    "        ROR = []\n",
    "        factors = list(factors)\n",
    "        for wager in range(1, wagers + 1):\n",
    "            N_ROR = GameSet.ruin_cases(factors = factors,\n",
    "                wager = wager, threshold = threshold)\n",
    "            N_TOT = len(factors)**wager\n",
    "            ROR.append(N_ROR/N_TOT)\n",
    "        return numpy.array(ROR)"
   ]
  },
  {
   "cell_type": "markdown",
   "metadata": {
    "colab_type": "text",
    "id": "9hU7C2LYD2xY"
   },
   "source": [
    "The risk of ruin \"$p_{ROR}$\" calculated by the method \"``.risk_of_ruin``\" is by definition, a probability value that is computed as the fraction of possible cases for a wager value \"$w$\" whose product has gone below the threshold, over all possible results. We already know the amount of possible results as each one of the \"$N_{ROR}$\" ``factors`` represent a possible result, and these conform an exponentially growing \"possibility tree\" as successive wagers \"$w$\" increase. So then:\n",
    "\n",
    "$$ p_{ROR} = \\frac{N_{ROR}(w)}{N_{r}^{w}} \\tag{eq.4}$$"
   ]
  },
  {
   "cell_type": "code",
   "execution_count": 87,
   "metadata": {
    "colab": {
     "base_uri": "https://localhost:8080/",
     "height": 453
    },
    "colab_type": "code",
    "id": "IoddJ08O-7Ci",
    "outputId": "e63316f2-fd37-4d50-ee72-4a0515f3a2b1",
    "tags": []
   },
   "outputs": [
    {
     "output_type": "stream",
     "name": "stderr",
     "text": "UsageError: Line magic function `%` not found.\n"
    }
   ],
   "source": [
    "% # Delete \"%\" to run this cell. It will work only if the system is 2D: 2 games.\n",
    "G = GameSet(Games)   ;   wagers = 12\n",
    "##############################################################################\n",
    "##### Following code is just for plot config. Not very important to read #####\n",
    "##############################################################################\n",
    "def figure_2(wagers):\n",
    "    Figure = matplotlib.pyplot.figure(figsize = (18, 4))\n",
    "    Figure.add_axes([0.1, 0.1, 0.6, 0.8])   ;  rr = \"Risk of ruin $\\Rightarrow$\"\n",
    "    Figure.axes[0].set_xlabel(fontweight = \"bold\", xlabel = \"Number of wagers\")\n",
    "    Figure.axes[0].set_ylabel(fontweight = \"bold\", ylabel = rr, rotation = 0, ha = \"right\")\n",
    "    Figure.axes[0].set_xlim(xmin = 1, xmax = wagers) ; Figure.axes[0].set_xticks(numpy.arange(1, wagers + 1))\n",
    "    Figure.axes[0].set_ylim(ymin = 0, ymax = 1)      ; Figure.axes[0].set_yticklabels(labels = []);\n",
    "    Figure.axes[0].yaxis.set_label_coords(0.99, 0.925); Figure.axes[0].yaxis.tick_right(); \n",
    "    # Colorbar for threshold identification.\n",
    "    Figure.add_axes([0.7, 0.1, 0.1, 0.8])\n",
    "    norm = matplotlib.colors.Normalize() ; cmap = matplotlib.cm.jet\n",
    "    colors = matplotlib.cm.ScalarMappable(norm = norm, cmap = cmap)\n",
    "    colorbar = matplotlib.pyplot.colorbar(mappable = colors, cax = Figure.axes[1])\n",
    "    colorbar.set_ticks(numpy.arange(0, 1, 0.1))\n",
    "    Figure.axes[1].set_xlabel(fontweight = \"bold\", xlabel = \"Wealth\\nthresholds\")\n",
    "    matplotlib.pyplot.pause(1e-13)\n",
    "    return Figure\n",
    "######################################################### Risk of ruin curves.\n",
    "Figure_0d = figure_2(wagers = wagers);\n",
    "factors = G.calc_rates(f_vals = f_vals);\n",
    "for threshold in (numpy.arange(1, 11)*0.1):\n",
    "    RR = GameSet.ruin_risk(factors, wagers = wagers, threshold = threshold)\n",
    "    Figure_0d.axes[0].plot(range(1, wagers + 1), RR, color = matplotlib.cm.jet(threshold), linewidth = 2);"
   ]
  },
  {
   "cell_type": "markdown",
   "metadata": {
    "colab_type": "text",
    "id": "NBf8kqjjqCvV"
   },
   "source": [
    "<center><img width = \"100%\" src = \"https://drive.google.com/uc?id=15BNFM2loR2k5oHbHPgMgB29RRn91MDOK\"></img></center>\n",
    "\n",
    "It may seem interesting to plot above some risk-of-ruin curves for different threshold values. One may appreciate that all of them approach asymptotically towards a certain max value. This \"max value\" concept could be taken as benchmark for future trading strategy evaluations.\n",
    "\n",
    "<hr><hr><hr>\n",
    "\n",
    "#### Exercise 1\n",
    "\n",
    "> There are 2 coin toss games that are happening in parallel, say Game 1 and Game 2. Both the coins are unbiased: there are equal probabilities of getting both head and tail.<br><br>However, the payouts from the games are different:\n",
    "\n",
    "> 1. \"Win - loss\" ratio is **2.5 : 1**… (\"$R_{(1)} = 2.5$\")\n",
    "  2. \"Win - loss\" ratio is **1.5 : 1**… (\"$R_{(2)} = 1.5$\")\n",
    "\n",
    "> <u>**Rules**</u>:\n",
    "> * The 2 games are played simultaneously.\n",
    "  * You can put a portion of your total wealth to bet on each game.\n",
    "  * After each round of betting, you can pool your gains/losses from the results of both games…\n",
    "  * …then again distribute a portion of your total wealth into them, and continue the process.\n",
    "\n",
    "> <u>**Question**</u>: What percentage of your total wealth should you bet in Game 1 (\"$f_{(1)}$\") and in Game 2 (\"$f_{(2)}$\")? Should you adopt any other methodologies?\n",
    "\n",
    "Just in case, let's create a \"``GameSet``\" instance for the games mentioned in the exercise. Let's also calculate the optimal wealth fractions \"``f_opt``\" for betting."
   ]
  },
  {
   "cell_type": "code",
   "execution_count": 88,
   "metadata": {
    "colab": {
     "base_uri": "https://localhost:8080/",
     "height": 88
    },
    "colab_type": "code",
    "id": "sZ7ViNq8wAt5",
    "outputId": "abc8a7ad-8ef3-44bf-de1e-4f52a869afe2",
    "tags": []
   },
   "outputs": [
    {
     "output_type": "stream",
     "name": "stdout",
     "text": "Optimal wealth fractions: [0.29292863 0.14242735]\nTotal wealth fraction gambled: 0.4354\nHighest geometric mean profit: 1.1262 ... log: 0.1188\nStandard deviation cmp profit: 1.6218 ... log: 0.4835\n"
    }
   ],
   "source": [
    "Games = [ pandas.DataFrame({\"Rates\": [2.5, -1.0], \"Probs\": [0.5,  0.5]}),\n",
    "          pandas.DataFrame({\"Rates\": [1.5, -1.0], \"Probs\": [0.5,  0.5]}) ]\n",
    "\n",
    "G = GameSet(Games)\n",
    "\n",
    "f_opt = G.optimize()\n",
    "print(\"Optimal wealth fractions: %s\" % f_opt)\n",
    "print(\"Total wealth fraction gambled: %.4f\" % f_opt.sum())\n",
    "m, s = G.calc_stats(f_opt)\n",
    "print(\"Highest geometric mean profit: %.4f ... log: %.4f\" % (m, numpy.log(m)))\n",
    "print(\"Standard deviation cmp profit: %.4f ... log: %.4f\" % (s, numpy.log(s)))"
   ]
  },
  {
   "cell_type": "markdown",
   "metadata": {
    "colab_type": "text",
    "id": "Tz8HHVxRz1nW"
   },
   "source": [
    "There are \"$N_{r} = 4$\" possible results for each wager. We can see that eventhough the geometric mean profit \"$\\bar{G}$\" is positive. However, its standard deviation is pretty high. In fact, its logarithmic value is over \"$ln\\;\\bar{G}$\" itself, so results can be pretty volatile.\n",
    "\n",
    "A good approach would be to apply a fraction of these wealth portions that are being bet: in both figures below, which were plotted with \"``.meshplot``\" method above, if connecting the origin (\"$f_{(1)} = f_{(2)} = 0$\") which has (obviously) zero standard deviation with the optimized point, one could choose a point in the midline to reduce the volatility while sacrificing some profit rate.\n",
    "\n",
    "<table><tr><th><img src = \"https://drive.google.com/uc?id=1-3uhF04tu4G9l0xwU36QtkcMEirXLEyr\" width = \"100%\"></th>\n",
    "           <th><img src = \"https://drive.google.com/uc?id=1jU6GlhGvaabFQ7Jc_C2_VViTmDGycVBC\" width = \"100%\"></th></tr></table>\n",
    "\n",
    "We can take the advantage of the \"``limit``\" input in \"``meshgrid``\" for this.  Using the optimals as input will keep the \"$f_{(2)}/f_{(1)}$\" ratio in the elements of the diagonals in the output matrices."
   ]
  },
  {
   "cell_type": "code",
   "execution_count": 89,
   "metadata": {
    "colab": {
     "base_uri": "https://localhost:8080/",
     "height": 453
    },
    "colab_type": "code",
    "id": "xvbfosz3QW_C",
    "outputId": "89844377-e19a-4c83-85dd-340158ddd33c",
    "tags": []
   },
   "outputs": [
    {
     "output_type": "stream",
     "name": "stderr",
     "text": "UsageError: Line magic function `%` not found.\n"
    }
   ],
   "source": [
    "% # Delete this line to run this cell. It generates a dense mesh of 100 points per axis.\n",
    "X, Y, Zm, Zs = G.meshgrid(points = 100, limit = f_opt)\n",
    "X, Y, Zm, Zs = numpy.diag(X), numpy.diag(Y), numpy.diag(Zm), numpy.diag(Zs)\n",
    "log_mean = numpy.nan_to_num(numpy.log(Zm), 0); log_mean[-1] = numpy.log(m)\n",
    "log_stdv = numpy.nan_to_num(numpy.log(Zs), 0); log_stdv[-1] = numpy.log(s)\n",
    "##############################################################################\n",
    "Figure = matplotlib.pyplot.figure(figsize = (18, 4))\n",
    "Figure.add_axes([0.1, 0.1, 0.8, 0.8])\n",
    "Figure.axes[0].set_xlabel(fontweight = \"bold\", fontsize = 12, xlabel = \"Fraction of optimal pair\")\n",
    "Figure.axes[0].set_ylabel(fontweight = \"bold\", fontsize = 12, ylabel = \"Log profit stats\")\n",
    "Figure.axes[0].set_xlim(xmin = 0, xmax = 1)\n",
    "Figure.axes[0].set_ylim(ymin = 0, ymax = log_stdv.max())\n",
    "##############################################################################\n",
    "Figure.axes[0].plot((X + Y)/f_opt.sum(), log_mean, color = \"lime\", label = \"Mean\")\n",
    "Figure.axes[0].plot((X + Y)/f_opt.sum(), log_stdv, color = \"red\", label = \"Standard Deviation\")\n",
    "Figure.axes[0].plot((X + Y)/f_opt.sum(), log_mean/log_stdv, color = \"yellow\", label = \"Sharpe ratio\")\n",
    "Figure.axes[0].legend(fontsize = 12); matplotlib.pyplot.pause(1e-13)"
   ]
  },
  {
   "cell_type": "markdown",
   "metadata": {
    "colab_type": "text",
    "id": "kPLtnS2EftqE"
   },
   "source": [
    "<center><img width = \"100%\" src = \"https://drive.google.com/uc?id=1vA6Nxi5jbfh-tQ3aXcJlXNmUO5zSXPqv\"></img></center>\n",
    "\n",
    "It's clear that the standard deviation grows much faster than the mean. That's why Sharpe decays so aggresively. Therefore, volatility is unavoidable. The only solution is to look for some point \"``f_less``\" which having \"$ln\\;\\sigma \\leq 2.25 \\cdot ln\\;\\bar{G}$\", is nearest to 1. That is: \"$Sharpe = 4/9$\". Then, we shall test it for risk of ruin curves."
   ]
  },
  {
   "cell_type": "code",
   "execution_count": 90,
   "metadata": {
    "colab": {
     "base_uri": "https://localhost:8080/",
     "height": 471
    },
    "colab_type": "code",
    "id": "GOO_LujSgJTh",
    "outputId": "c2964a2e-ef79-4c33-8fc4-9d1e27e76aec",
    "tags": []
   },
   "outputs": [
    {
     "output_type": "stream",
     "name": "stderr",
     "text": "UsageError: Line magic function `%` not found.\n"
    }
   ],
   "source": [
    "% # Delete this line to run this cell. It draws risk of ruin curves for specified sharpe ratio.\n",
    "f_less = ((X + Y)/f_opt.sum())[log_stdv <= 2.25*log_mean].max()\n",
    "f_frac = numpy.array(f_less)*numpy.array(f_opt)\n",
    "print(\"New fractional bet size from optimal: %s: \" % f_frac)\n",
    "# Risk of ruin curves for different threshold values.\n",
    "Figure_1d = figure_2(wagers = 12)\n",
    "factors = G.calc_rates(f_vals = f_frac)\n",
    "for threshold in (numpy.arange(1, 11)*0.1):\n",
    "    RR = GameSet.ruin_risk(factors, wagers = 12, threshold = threshold)\n",
    "    Figure_1d.axes[0].plot(range(1, 12 + 1), RR, color = matplotlib.cm.jet(threshold), linewidth = 2);"
   ]
  },
  {
   "cell_type": "markdown",
   "metadata": {
    "colab_type": "text",
    "id": "JmQouZPvnnH2"
   },
   "source": [
    "<center><img width = \"100%\" src = \"https://drive.google.com/uc?id=1E0BK0qv2Aupn8GrxRxEkFwGVKYXQ3SpH\"></img></center>\n",
    "\n",
    "Upper line in dark red represents the probability of our wealth to decrease from initial amount (threshold is 1). Its asymptote settled in about 55%, and the ones below settled much lower. So eventhough the standard deviation is still high, this approach is relatively conservative and has about 45% chance of definitively profitting at long term.\n",
    "\n",
    "So: <u>the chosen combination is around \"3.5%\" for game 1 and \"1.7%\" for game 2</u>.\n",
    "\n",
    "<hr><hr><hr>\n",
    "\n",
    "#### Exercise 2\n",
    "\n",
    "> There are now \"infinite\" coin toss games occurring in parallel; say game \"$g$\" with \"$g = 1, 2, \\ldots$\". All of them have the same “Win – loss” ratio of 2 : 1 (\"$R = 2$\"). Rules are exactly the same as before.\n",
    "\n",
    "> <u>**Questions**</u>:\n",
    "> * While the geometric rate of return for a particular period increases on playing more than one game in parallel... what value does it asymptotically lead to?\n",
    "  * Are there any drawdowns of playing multiple games in parallel? Thus, what will your strategy be?\n",
    "  * Kindly state all scenarios and how you would play the game according to each.\n",
    "\n",
    "> Say scenarios like...\n",
    "> * ...incorporating risk of ruin,\n",
    "  * ...ability to earn interest on money not put into the game,\n",
    "  * ...biased coin (heads more probable than tails or otherwise),\n",
    "  * ...probability of runs (probability of win after win, or otherwise)"
   ]
  },
  {
   "cell_type": "markdown",
   "metadata": {
    "colab_type": "text",
    "id": "aGNggGLFIszO"
   },
   "source": [
    "Let's take care of the most general case in which we've got...\n",
    "* An infinite amount of identical games \"$N_{g} \\rightarrow \\infty$\".\n",
    "* Total gambled wealth is \"$f_{0}$\", equally divided between games.\n",
    "* Everyone presents a win-loss payout ratio \"$R:1$\".\n",
    "* Probabilities are biased: \"$p_R : p_1$\" may be different than 1:1.\n",
    "* Zero-risk growth rate \"$R_{0}$\" on ungambled money (\"$1 - f_{0}$\").\n",
    "\n",
    "For a <u>single game</u>, just 2 factors define our random log profit \"$ln\\;P$\". Let's call the difference between the random log profit and new log zero risk growth as \"$ ln\\;Q = ln\\;P - ln(1 + (1 - f_{0})R_{0}) $\". As described by equation 3a and with all data gathered above, the mean/\"expected value\" of this random variable \"$ln\\;Q$\" would be:\n",
    "\n",
    "$$ E(ln\\;{Q}) = p_{R} \\; ln(1 + R \\cdot f_{0}) + p_{1} \\; ln(1 - f_{0}) = \\mu $$\n",
    "\n",
    "Let's then apply equation 3b to find its variance:\n",
    "\n",
    "$$ E(ln^{2}{Q}) = p_{R} \\; ln^{2}(1 + R \\cdot f_{0}) + p_{1} \\; ln^{2}(1 - f_{0}) $$\n",
    "\n",
    "As by the definition of standard deviation:\n",
    "\n",
    "$$ V(ln\\;Q) = E(ln^{2}{Q}) - E(ln\\;{Q})^{2} = \\sigma^{2}$$\n",
    "\n",
    "After some term expansion, we get:\n",
    "\n",
    "$$ \\sqrt{V(ln\\;Q)} = \\sqrt{p_{R} \\; p_{1}} \\; [\\; ln(1 + R \\cdot f_{0}) + ln(1 - f_{0}) \\;] = \\sigma $$\n",
    "\n",
    "So the dynamics of a single game with two single outcomes, follow a Bernoulli distribution with mean \"$\\mu$\" and standard deviation \"$\\sigma$\". When extended to various games, \"$ln\\;Q$\" becomes a sum of independent terms for each game, with the format of equation 3a. The probabilistic process tends towards a Binomial distribution because each term represents the combination of individual results.\n",
    "\n",
    "<center><img width = \"75%\" src = \"https://drive.google.com/uc?id=1UCG3vP5Vs_saRqwJbjJH1vDrgEzhtFzW\"></img></center>\n",
    "\n",
    "<ul>So then equation 3a turns into:\n",
    "$$ ln\\;\\bar{Q} = \\Sigma_{g = 1}^{N_{g}} \\; {N_{g}\\choose{g}} \\; p_{R}^{g}\n",
    "\\; p_{1}^{N_{g} - g} \\; ln\\;(1 + [R(N_{g} - g) - g]\\;\\frac{f_{0}}{N_{g}}) $$\n",
    "\n",
    "When the number of games is very large (\"$N_{g} \\rightarrow \\infty$\"), the Binomial distribution becomes a Gaussian Normal distribution.<br>The issue with this fact is that theoretically, the original standard deviation becomes multiplied by the amount of games \"$N_{g}$\":\n",
    "\n",
    "$$ lim_{N_{g} \\rightarrow \\infty} \\; \\sigma = N_{g} \\sqrt{p_{R} \\; p_{1}} \\; [\\; ln(1 + R \\cdot f_{0}) + ln(1 - f_{0}) \\;] $$\n",
    "\n",
    "So therefore it's not a good idea to play an increasingly large amount of games at the same time: <u>**the log profit becomes more volatile**</u>.\n",
    "\n",
    "Also there are other facts to take into consideration:\n",
    "* The impossibility of controlling so many games at the same time.\n",
    "* The indivisibility of wealth beyond a certain discrete fraction."
   ]
  }
 ],
 "metadata": {
  "colab": {
   "collapsed_sections": [],
   "name": "EPAT Assignment 8 - [PRM 1] Portfolio Optimization.ipynb",
   "provenance": []
  },
  "kernelspec": {
   "display_name": "Python 3.7.7 64-bit ('base': conda)",
   "language": "python",
   "name": "python_defaultSpec_1598849373300"
  },
  "language_info": {
   "codemirror_mode": {
    "name": "ipython",
    "version": 3
   },
   "file_extension": ".py",
   "mimetype": "text/x-python",
   "name": "python",
   "nbconvert_exporter": "python",
   "pygments_lexer": "ipython3",
   "version": "3.7.7-final"
  },
  "varInspector": {
   "cols": {
    "lenName": 16,
    "lenType": 16,
    "lenVar": 40
   },
   "kernels_config": {
    "python": {
     "delete_cmd_postfix": "",
     "delete_cmd_prefix": "del ",
     "library": "var_list.py",
     "varRefreshCmd": "print(var_dic_list())"
    },
    "r": {
     "delete_cmd_postfix": ") ",
     "delete_cmd_prefix": "rm(",
     "library": "var_list.r",
     "varRefreshCmd": "cat(var_dic_list()) "
    }
   },
   "types_to_exclude": [
    "module",
    "function",
    "builtin_function_or_method",
    "instance",
    "_Feature"
   ],
   "window_display": false
  }
 },
 "nbformat": 4,
 "nbformat_minor": 1
}