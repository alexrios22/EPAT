{
 "cells": [
  {
   "cell_type": "markdown",
   "metadata": {
    "ExecuteTime": {
     "end_time": "2019-07-31T17:35:45.786542Z",
     "start_time": "2019-07-31T17:35:45.783228Z"
    },
    "colab_type": "text",
    "id": "NRboBxhvmzMG"
   },
   "source": [
    "<table>\n",
    "<td align = \"left\" width = \"500\"><font size = \"3\" color = \"blue\">\n",
    "EPAT Batch 45 | <b>DMP 2 - Assignment 03/08/2020</b></td>\n",
    "<td align = \"right\" width = \"500\"><font size = \"3\" color = \"blue\">\n",
    "<i><u>Written by</u>: Gaston Solari Loudet</i></td>\n",
    "</table>\n",
    "\n",
    "---\n",
    "# <center><font size = \"5\" color = \"blue\"><b><u>Introduction to Object-Oriented Programming</u></b></center>\n",
    "\n",
    "<br>(<u>Google Colab link</u>: https://colab.research.google.com/drive/1rVHM8J7aGZgS4VjKgPbJ3re_W44h53Ey)\n",
    "\n"
   ]
  },
  {
   "cell_type": "code",
   "execution_count": 0,
   "metadata": {
    "ExecuteTime": {
     "end_time": "2020-03-02T07:01:23.406245Z",
     "start_time": "2020-03-02T07:01:23.378599Z"
    },
    "colab": {},
    "colab_type": "code",
    "id": "n0hFSXpfmzNW"
   },
   "outputs": [],
   "source": [
    "class Progression:\n",
    "    \"\"\"\n",
    "    Iterator producing a generic progression.\n",
    "    Default iterator produces the whole numbers 0, 1, 2, ...\n",
    "    \"\"\"\n",
    "\n",
    "    def __init__(self, start = 0):\n",
    "        \"\"\"\n",
    "        Initialize current to the first value of the progression.\n",
    "        \"\"\"\n",
    "        self._current = start\n",
    "\n",
    "    def _advance(self):\n",
    "        \"\"\"\n",
    "        Update self._current to a new value.\n",
    "\n",
    "        This should be overridden by a subclass to customize progression.\n",
    "\n",
    "        By convention, if current is set to None, this designates the\n",
    "        end of a finite progression.\n",
    "        \"\"\"\n",
    "        self._current += 1\n",
    "\n",
    "    def __next__(self):\n",
    "        \"\"\"\n",
    "        Return the next element, or else raise StopIteration error.\n",
    "        \"\"\"\n",
    "        if self._current is None:    # our convention to end a progression\n",
    "            raise StopIteration()\n",
    "        else:\n",
    "            answer = self._current     # record current value to return\n",
    "            self._advance()            # advance to prepare for next time\n",
    "            return answer              # return the answer\n",
    "\n",
    "    def __iter__(self):\n",
    "        \"\"\"\n",
    "        By convention, an iterator must return itself as an iterator.\n",
    "        \"\"\"\n",
    "        return self\n",
    "\n",
    "    def print_progression(self, n):\n",
    "        \"\"\"\n",
    "        Print next n values of the progression.\n",
    "        \"\"\"\n",
    "        print(' '.join(str(next(self)) for j in range(n)))"
   ]
  },
  {
   "cell_type": "code",
   "execution_count": 0,
   "metadata": {
    "ExecuteTime": {
     "end_time": "2020-03-02T07:01:24.188442Z",
     "start_time": "2020-03-02T07:01:24.164031Z"
    },
    "colab": {},
    "colab_type": "code",
    "id": "Xr4OpYQ0mzNY"
   },
   "outputs": [],
   "source": [
    "class ArithmeticProgression(Progression): # Inherit from Progression\n",
    "    def __init__(self, increment = 1, start = 0):\n",
    "        super().__init__(start) # Construct from parent class.\n",
    "        self._increment = increment # Store argumented \"increment\".\n",
    "    def _advance(self): # Override inherited version.\n",
    "        self._current += self._increment # Increase by \"increment\".\n",
    "\n",
    "class GeometricProgression(Progression): # Inherit from Progression\n",
    "    def __init__(self, base = 2, start = 1):\n",
    "        super().__init__(start) # Construct from parent class.\n",
    "        self._base = base # Store argumented \"base\".\n",
    "    def _advance(self): # Override inherited version.\n",
    "        self._current *= self._base # Multiply by \"base\" factor.\n",
    "\n",
    "class FibonacciProgression(Progression): # Inherit from Progression\n",
    "    def __init__(self, start = 0, front = 1):\n",
    "        super().__init__(start) # Construct from parent class.\n",
    "        self._front = front # Store argumented \"front\"\n",
    "    def _advance(self): # Override inherited version.\n",
    "        new_current = self._front # Actual front will be future current.\n",
    "        self._front += self._current # Add former current and actual front.\n",
    "        self._current = new_current # Update current to former front."
   ]
  },
  {
   "cell_type": "code",
   "execution_count": 0,
   "metadata": {
    "ExecuteTime": {
     "end_time": "2020-03-02T07:01:25.286842Z",
     "start_time": "2020-03-02T07:01:25.261106Z"
    },
    "colab": {},
    "colab_type": "code",
    "id": "sq4lI_uvmzNe"
   },
   "outputs": [],
   "source": [
    "def validate():\n",
    "    print('Default progression:')\n",
    "    Progression().print_progression(10)\n",
    "    print('Arithmetic progression with increment 5:')\n",
    "    ArithmeticProgression(5).print_progression(10)\n",
    "    print('Arithmetic progression with increment 5 and start 2:')\n",
    "    ArithmeticProgression(5, 2).print_progression(10)\n",
    "    print('Geometric progression with default base:')\n",
    "    GeometricProgression().print_progression(10)\n",
    "    print('Geometric progression with base 3:')\n",
    "    GeometricProgression(base = 3).print_progression(10)\n",
    "    print('Fibonacci progression with default start values:')\n",
    "    FibonacciProgression().print_progression(10)\n",
    "    print('Fibonacci progression with start values 4 and 6:')\n",
    "    FibonacciProgression(4, 6).print_progression(10)"
   ]
  },
  {
   "cell_type": "markdown",
   "metadata": {
    "colab_type": "text",
    "id": "IKin_sG4yMp-"
   },
   "source": [
    "## <ul><font size = \"4\"><b><u>Expected results</u></b></font>\n",
    "<ul>\n",
    "<ul> <li type = \"square\">Default progression:\n",
    "<br><code>0,    1,    2,    3,    4,    5,    6,    7,    8,    9.</code>\n",
    "</li><li type = \"square\">Arithmetic progression with increment 5:\n",
    "<br><code>0,    5,   10,   15,   20,   25,   30,   35,   40,   45.</code>\n",
    "</li><li type = \"square\">Arithmetic progression with increment 5 and start 2:\n",
    "<br><code>2,    7,   12,   17,   22,   27,   32,   37,   42,   47.</code>\n",
    "</li><li type = \"square\">Geometric progression with default base:\n",
    "<br><code>1,    2,    4,    8,   16,   32,   64,  128,  256,  512.</code>\n",
    "</li><li type = \"square\">Geometric progression with base 3:\n",
    "<br><code>1,    3,    9,   27,   81,  243,  729, 2187, 6561, 19683.</code>\n",
    "</li><li type = \"square\">Fibonacci progression with default start values:\n",
    "<br><code>0,    1,    1,    2,    3,    5,    8,   13,   21,   34.</code>\n",
    "</li><li type = \"square\">Fibonacci progression with start values 4 and 6:\n",
    "<br><code>4,    6,   10,   16,   26,   42,   68,  110,  178,  288.</code></ul>"
   ]
  },
  {
   "cell_type": "code",
   "execution_count": 69,
   "metadata": {
    "colab": {
     "base_uri": "https://localhost:8080/",
     "height": 266
    },
    "colab_type": "code",
    "id": "gBBW2Vx1vVo3",
    "outputId": "92c10a8b-d721-44c2-d0bf-b027ce82f8b5"
   },
   "outputs": [
    {
     "name": "stdout",
     "output_type": "stream",
     "text": [
      "Default progression:\n",
      "0 1 2 3 4 5 6 7 8 9\n",
      "Arithmetic progression with increment 5:\n",
      "0 5 10 15 20 25 30 35 40 45\n",
      "Arithmetic progression with increment 5 and start 2:\n",
      "2 7 12 17 22 27 32 37 42 47\n",
      "Geometric progression with default base:\n",
      "1 2 4 8 16 32 64 128 256 512\n",
      "Geometric progression with base 3:\n",
      "1 3 9 27 81 243 729 2187 6561 19683\n",
      "Fibonacci progression with default start values:\n",
      "0 1 1 2 3 5 8 13 21 34\n",
      "Fibonacci progression with start values 4 and 6:\n",
      "4 6 10 16 26 42 68 110 178 288\n"
     ]
    }
   ],
   "source": [
    "validate()"
   ]
  }
 ],
 "metadata": {
  "colab": {
   "collapsed_sections": [],
   "name": "EPAT Assignment 6 - [DMP 2] Object-oriented programming.ipynb",
   "provenance": []
  },
  "kernelspec": {
   "display_name": "Python 3",
   "language": "python",
   "name": "python3"
  },
  "language_info": {
   "codemirror_mode": {
    "name": "ipython",
    "version": 3
   },
   "file_extension": ".py",
   "mimetype": "text/x-python",
   "name": "python",
   "nbconvert_exporter": "python",
   "pygments_lexer": "ipython3",
   "version": "3.7.4"
  },
  "varInspector": {
   "cols": {
    "lenName": 16,
    "lenType": 16,
    "lenVar": 40
   },
   "kernels_config": {
    "python": {
     "delete_cmd_postfix": "",
     "delete_cmd_prefix": "del ",
     "library": "var_list.py",
     "varRefreshCmd": "print(var_dic_list())"
    },
    "r": {
     "delete_cmd_postfix": ") ",
     "delete_cmd_prefix": "rm(",
     "library": "var_list.r",
     "varRefreshCmd": "cat(var_dic_list()) "
    }
   },
   "types_to_exclude": [
    "module",
    "function",
    "builtin_function_or_method",
    "instance",
    "_Feature"
   ],
   "window_display": false
  }
 },
 "nbformat": 4,
 "nbformat_minor": 1
}
