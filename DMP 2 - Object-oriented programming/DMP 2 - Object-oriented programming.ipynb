{
 "cells": [
  {
   "cell_type": "markdown",
   "metadata": {
    "ExecuteTime": {
     "end_time": "2019-07-31T17:35:45.786542Z",
     "start_time": "2019-07-31T17:35:45.783228Z"
    },
    "colab_type": "text",
    "id": "NRboBxhvmzMG"
   },
   "source": [
    "{[Click here to read this notebook in Google Colab](https://colab.research.google.com/drive/1MnWvsxXAfG8e9viixJO6ki1WC1MW4sHI)}\n",
    "\n",
    "<head><link rel = \"stylesheet\" href = \"https://drive.google.com/uc?id=1zYOH-_Mb9jOjRbQmghdhsmZ2g6xAwakk\"></head>\n",
    "\n",
    "<table class = \"header\"><tr>\n",
    "    <th align = \"left\">EPAT Batch 45 | DMP 2, 2020\\03\\08</th>\n",
    "    <th align = \"right\">Written by: Gaston Solari Loudet</th>\n",
    "</tr></table>\n",
    "\n",
    "### Introduction to Object-Oriented Programming"
   ]
  },
  {
   "cell_type": "code",
   "execution_count": 1,
   "metadata": {
    "ExecuteTime": {
     "end_time": "2020-03-02T07:01:23.406245Z",
     "start_time": "2020-03-02T07:01:23.378599Z"
    },
    "colab": {},
    "colab_type": "code",
    "id": "n0hFSXpfmzNW"
   },
   "outputs": [],
   "source": [
    "class Progression:\n",
    "    \"\"\"\n",
    "    Iterator producing a generic progression.\n",
    "    Default iterator produces the whole numbers 0, 1, 2, ...\n",
    "    \"\"\"\n",
    "\n",
    "    def __init__(self, start = 0):\n",
    "        \"\"\"\n",
    "        Initialize current to the first value of the progression.\n",
    "        \"\"\"\n",
    "        self._current = start\n",
    "\n",
    "    def _advance(self):\n",
    "        \"\"\"\n",
    "        Update self._current to a new value.\n",
    "\n",
    "        This should be overridden by a subclass to customize progression.\n",
    "\n",
    "        By convention, if current is set to None, this designates the\n",
    "        end of a finite progression.\n",
    "        \"\"\"\n",
    "        self._current += 1\n",
    "\n",
    "    def __next__(self):\n",
    "        \"\"\"\n",
    "        Return the next element, or else raise StopIteration error.\n",
    "        \"\"\"\n",
    "        if self._current is None:    # our convention to end a progression\n",
    "            raise StopIteration()\n",
    "        else:\n",
    "            answer = self._current     # record current value to return\n",
    "            self._advance()            # advance to prepare for next time\n",
    "            return answer              # return the answer\n",
    "\n",
    "    def __iter__(self):\n",
    "        \"\"\"\n",
    "        By convention, an iterator must return itself as an iterator.\n",
    "        \"\"\"\n",
    "        return self\n",
    "\n",
    "    def print_progression(self, n):\n",
    "        \"\"\"\n",
    "        Print next n values of the progression.\n",
    "        \"\"\"\n",
    "        print(' '.join(str(next(self)) for j in range(n)))"
   ]
  },
  {
   "cell_type": "code",
   "execution_count": 2,
   "metadata": {
    "ExecuteTime": {
     "end_time": "2020-03-02T07:01:24.188442Z",
     "start_time": "2020-03-02T07:01:24.164031Z"
    },
    "colab": {},
    "colab_type": "code",
    "id": "Xr4OpYQ0mzNY"
   },
   "outputs": [],
   "source": [
    "class ArithmeticProgression(Progression): # Inherit from Progression\n",
    "    def __init__(self, increment = 1, start = 0):\n",
    "        super().__init__(start) # Construct from parent class.\n",
    "        self._increment = increment # Store argumented \"increment\".\n",
    "    def _advance(self): # Override inherited version.\n",
    "        self._current += self._increment # Increase by \"increment\".\n",
    "\n",
    "class GeometricProgression(Progression): # Inherit from Progression\n",
    "    def __init__(self, base = 2, start = 1):\n",
    "        super().__init__(start) # Construct from parent class.\n",
    "        self._base = base # Store argumented \"base\".\n",
    "    def _advance(self): # Override inherited version.\n",
    "        self._current *= self._base # Multiply by \"base\" factor.\n",
    "\n",
    "class FibonacciProgression(Progression): # Inherit from Progression\n",
    "    def __init__(self, start = 0, front = 1):\n",
    "        super().__init__(start) # Construct from parent class.\n",
    "        self._front = front # Store argumented \"front\"\n",
    "    def _advance(self): # Override inherited version.\n",
    "        new_current = self._front # Actual front will be future current.\n",
    "        self._front += self._current # Add former current and actual front.\n",
    "        self._current = new_current # Update current to former front."
   ]
  },
  {
   "cell_type": "code",
   "execution_count": 3,
   "metadata": {
    "ExecuteTime": {
     "end_time": "2020-03-02T07:01:25.286842Z",
     "start_time": "2020-03-02T07:01:25.261106Z"
    },
    "colab": {},
    "colab_type": "code",
    "id": "sq4lI_uvmzNe"
   },
   "outputs": [],
   "source": [
    "def validate():\n",
    "    print('Default progression:')\n",
    "    Progression().print_progression(10)\n",
    "    print('Arithmetic progression with increment 5:')\n",
    "    ArithmeticProgression(5).print_progression(10)\n",
    "    print('Arithmetic progression with increment 5 and start 2:')\n",
    "    ArithmeticProgression(5, 2).print_progression(10)\n",
    "    print('Geometric progression with default base:')\n",
    "    GeometricProgression().print_progression(10)\n",
    "    print('Geometric progression with base 3:')\n",
    "    GeometricProgression(base = 3).print_progression(10)\n",
    "    print('Fibonacci progression with default start values:')\n",
    "    FibonacciProgression().print_progression(10)\n",
    "    print('Fibonacci progression with start values 4 and 6:')\n",
    "    FibonacciProgression(4, 6).print_progression(10)"
   ]
  },
  {
   "cell_type": "markdown",
   "metadata": {
    "colab_type": "text",
    "id": "IKin_sG4yMp-"
   },
   "source": [
    "#### Expected results\n",
    "<ul>\n",
    "<ul> <li type = \"square\">Default progression:\n",
    "<br><code>0,    1,    2,    3,    4,    5,    6,    7,    8,    9.</code>\n",
    "</li><li type = \"square\">Arithmetic progression with increment 5:\n",
    "<br><code>0,    5,   10,   15,   20,   25,   30,   35,   40,   45.</code>\n",
    "</li><li type = \"square\">Arithmetic progression with increment 5 and start 2:\n",
    "<br><code>2,    7,   12,   17,   22,   27,   32,   37,   42,   47.</code>\n",
    "</li><li type = \"square\">Geometric progression with default base:\n",
    "<br><code>1,    2,    4,    8,   16,   32,   64,  128,  256,  512.</code>\n",
    "</li><li type = \"square\">Geometric progression with base 3:\n",
    "<br><code>1,    3,    9,   27,   81,  243,  729, 2187, 6561, 19683.</code>\n",
    "</li><li type = \"square\">Fibonacci progression with default start values:\n",
    "<br><code>0,    1,    1,    2,    3,    5,    8,   13,   21,   34.</code>\n",
    "</li><li type = \"square\">Fibonacci progression with start values 4 and 6:\n",
    "<br><code>4,    6,   10,   16,   26,   42,   68,  110,  178,  288.</code></ul>"
   ]
  },
  {
   "cell_type": "code",
   "execution_count": 4,
   "metadata": {
    "colab": {
     "base_uri": "https://localhost:8080/",
     "height": 266
    },
    "colab_type": "code",
    "id": "gBBW2Vx1vVo3",
    "outputId": "92c10a8b-d721-44c2-d0bf-b027ce82f8b5",
    "tags": []
   },
   "outputs": [
    {
     "output_type": "stream",
     "name": "stdout",
     "text": "Default progression:\n0 1 2 3 4 5 6 7 8 9\nArithmetic progression with increment 5:\n0 5 10 15 20 25 30 35 40 45\nArithmetic progression with increment 5 and start 2:\n2 7 12 17 22 27 32 37 42 47\nGeometric progression with default base:\n1 2 4 8 16 32 64 128 256 512\nGeometric progression with base 3:\n1 3 9 27 81 243 729 2187 6561 19683\nFibonacci progression with default start values:\n0 1 1 2 3 5 8 13 21 34\nFibonacci progression with start values 4 and 6:\n4 6 10 16 26 42 68 110 178 288\n"
    }
   ],
   "source": [
    "validate()"
   ]
  }
 ],
 "metadata": {
  "colab": {
   "collapsed_sections": [],
   "name": "EPAT Assignment 6 - [DMP 2] Object-oriented programming.ipynb",
   "provenance": []
  },
  "kernelspec": {
   "display_name": "Python 3",
   "language": "python",
   "name": "python3"
  },
  "language_info": {
   "codemirror_mode": {
    "name": "ipython",
    "version": 3
   },
   "file_extension": ".py",
   "mimetype": "text/x-python",
   "name": "python",
   "nbconvert_exporter": "python",
   "pygments_lexer": "ipython3",
   "version": "3.7.7-final"
  },
  "varInspector": {
   "cols": {
    "lenName": 16,
    "lenType": 16,
    "lenVar": 40
   },
   "kernels_config": {
    "python": {
     "delete_cmd_postfix": "",
     "delete_cmd_prefix": "del ",
     "library": "var_list.py",
     "varRefreshCmd": "print(var_dic_list())"
    },
    "r": {
     "delete_cmd_postfix": ") ",
     "delete_cmd_prefix": "rm(",
     "library": "var_list.r",
     "varRefreshCmd": "cat(var_dic_list()) "
    }
   },
   "types_to_exclude": [
    "module",
    "function",
    "builtin_function_or_method",
    "instance",
    "_Feature"
   ],
   "window_display": false
  }
 },
 "nbformat": 4,
 "nbformat_minor": 1
}